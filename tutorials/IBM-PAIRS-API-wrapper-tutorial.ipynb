{
 "cells": [
  {
   "cell_type": "markdown",
   "metadata": {},
   "source": [
    "# Tutorial: IBM PAIRS Geoscope RESTful API wrapper"
   ]
  },
  {
   "cell_type": "markdown",
   "metadata": {},
   "source": [
    "Copyright 2019 Physical Analytics, IBM Research, IBM Corp. All Rights Reserved.\n",
    "\n",
    "SPDX-License-Identifier: BSD-3-Clause"
   ]
  },
  {
   "cell_type": "markdown",
   "metadata": {},
   "source": [
    "# Prelude: A general overview  of the workflow with `ibmpairs`"
   ]
  },
  {
   "cell_type": "markdown",
   "metadata": {},
   "source": [
    "Given you are setup with IBM PAIRS credentials, the general workflow follows the recipe:\n",
    "1. define your query using `JSON`, more precisely the equivalent of a Python dictionary `queryDef`\n",
    "2. create an IBM PAIRS Python query object with the API wrapper: `query = paw.PAIRSQuery(queryDef, ...)`\n",
    "3. submit your query to IBM PAIRS: `query.submit()`\n",
    "4. wait until your result gets delivered by IBM PAIRS: `query.poll_till_finished()`\n",
    "5. download your data locally: `query.download()`\n",
    "6. check the data acknowledgement `query.print_data_acknowledgement()` which shows the text stored in `query.dataAcknowledgeText` \n",
    "7. get your data into memory: `query.create_layers()`\n",
    "8. do your analysis of the data in `query.data` (or `query.vdf`, see below) with the help of corresponding meta data `query.metadata`\n",
    "   Both structures are of type `dict` with the same key\n",
    "   \n",
    "For vector data, there is a helper structure `query.vdf` that can be populated from `query.data` to do some\n",
    "useful manipulations.\n",
    "\n",
    "**ATTENTION:** There is an exception for point queries to the rules above. Specifically, the point query data immediately get\n",
    "loaded into `query.vdf`, and *not* stored in `query.data`. Of course, there is no corresponding `query.metadata` as well.\n",
    "\n",
    "*TIP:* One can retrieve the IBM PAIRS polygons which are subsequently stored in `query.pdf` as a cache for reuse.\n",
    "Moreover, it is possible to directly load previously queried data where the IBM PAIRS query ZIP files serve as a cache."
   ]
  },
  {
   "cell_type": "markdown",
   "metadata": {},
   "source": [
    "# Python module installs"
   ]
  },
  {
   "cell_type": "code",
   "execution_count": 93,
   "metadata": {
    "ExecuteTime": {
     "end_time": "2019-07-30T22:22:02.713739Z",
     "start_time": "2019-07-30T22:22:00.495409Z"
    }
   },
   "outputs": [
    {
     "name": "stdout",
     "output_type": "stream",
     "text": [
      "Requirement already satisfied: ibmpairs in /home/cmalbrec/software/python/local-python-3/lib/python3.5/site-packages (0.0.5)\n",
      "Requirement already satisfied: fs in /home/cmalbrec/software/python/local-python-3/lib/python3.5/site-packages (from ibmpairs) (2.4.10)\n",
      "Requirement already satisfied: shapely in /home/cmalbrec/software/python/local-python-3/lib/python3.5/site-packages (from ibmpairs) (1.6.4.post2)\n",
      "Requirement already satisfied: requests>=2.4 in /home/cmalbrec/software/python/local-python-3/lib/python3.5/site-packages (from ibmpairs) (2.22.0)\n",
      "Requirement already satisfied: Pillow>=1.6 in /home/cmalbrec/software/python/local-python-3/lib/python3.5/site-packages (from ibmpairs) (6.0.0)\n",
      "Requirement already satisfied: numpy in /home/cmalbrec/software/python/local-python-3/lib/python3.5/site-packages (from ibmpairs) (1.16.4)\n",
      "Requirement already satisfied: future in /home/cmalbrec/software/python/local-python-3/lib/python3.5/site-packages (from ibmpairs) (0.17.1)\n",
      "Requirement already satisfied: pandas in /home/cmalbrec/software/python/local-python-3/lib/python3.5/site-packages (from ibmpairs) (0.24.2)\n",
      "Requirement already satisfied: pytz in /home/cmalbrec/software/python/local-python-3/lib/python3.5/site-packages (from fs->ibmpairs) (2019.1)\n",
      "Requirement already satisfied: setuptools in /home/cmalbrec/software/python/local-python-3/lib/python3.5/site-packages (from fs->ibmpairs) (41.0.1)\n",
      "Requirement already satisfied: six~=1.10 in /home/cmalbrec/software/python/local-python-3/lib/python3.5/site-packages (from fs->ibmpairs) (1.12.0)\n",
      "Requirement already satisfied: typing~=3.6; python_version < \"3.6\" in /home/cmalbrec/software/python/local-python-3/lib/python3.5/site-packages (from fs->ibmpairs) (3.6.6)\n",
      "Requirement already satisfied: appdirs~=1.4.3 in /home/cmalbrec/software/python/local-python-3/lib/python3.5/site-packages (from fs->ibmpairs) (1.4.3)\n",
      "Requirement already satisfied: chardet<3.1.0,>=3.0.2 in /home/cmalbrec/software/python/local-python-3/lib/python3.5/site-packages (from requests>=2.4->ibmpairs) (3.0.4)\n",
      "Requirement already satisfied: certifi>=2017.4.17 in /home/cmalbrec/software/python/local-python-3/lib/python3.5/site-packages (from requests>=2.4->ibmpairs) (2019.3.9)\n",
      "Requirement already satisfied: urllib3!=1.25.0,!=1.25.1,<1.26,>=1.21.1 in /home/cmalbrec/software/python/local-python-3/lib/python3.5/site-packages (from requests>=2.4->ibmpairs) (1.25.3)\n",
      "Requirement already satisfied: idna<2.9,>=2.5 in /home/cmalbrec/software/python/local-python-3/lib/python3.5/site-packages (from requests>=2.4->ibmpairs) (2.8)\n",
      "Requirement already satisfied: python-dateutil>=2.5.0 in /home/cmalbrec/software/python/local-python-3/lib/python3.5/site-packages (from pandas->ibmpairs) (2.8.0)\n",
      "\u001b[33mWARNING: You are using pip version 19.1.1, however version 19.2.1 is available.\n",
      "You should consider upgrading via the 'pip install --upgrade pip' command.\u001b[0m\n"
     ]
    }
   ],
   "source": [
    "!pip install ibmpairs"
   ]
  },
  {
   "cell_type": "markdown",
   "metadata": {},
   "source": [
    "**ATTENTION**: In order to run the following cell, you might need to restart your Jupyter notebook kernel."
   ]
  },
  {
   "cell_type": "code",
   "execution_count": 3,
   "metadata": {
    "ExecuteTime": {
     "end_time": "2019-07-30T18:41:05.976666Z",
     "start_time": "2019-07-30T18:41:04.962763Z"
    }
   },
   "outputs": [],
   "source": [
    "# IBM PAIRS open-source module\n",
    "from ibmpairs import paw"
   ]
  },
  {
   "cell_type": "markdown",
   "metadata": {},
   "source": [
    "# Setting the stage"
   ]
  },
  {
   "cell_type": "markdown",
   "metadata": {},
   "source": [
    "## Get your IBM PAIRS credentials"
   ]
  },
  {
   "cell_type": "markdown",
   "metadata": {},
   "source": [
    "1. Get your access to IBM PAIRS by visiting https://ibmpairs.mybluemix.net\n",
    "2. send an e-mail to pairs@us.ibm.com with subject `enable backend access` and FROM set to your e-mail address used for signing up to IBM PAIRS"
   ]
  },
  {
   "cell_type": "markdown",
   "metadata": {},
   "source": [
    "## Set up IBM PAIRS password file on your machine"
   ]
  },
  {
   "cell_type": "code",
   "execution_count": 3,
   "metadata": {
    "ExecuteTime": {
     "end_time": "2019-07-26T23:20:05.352610Z",
     "start_time": "2019-07-26T23:20:05.347355Z"
    }
   },
   "outputs": [
    {
     "name": "stdout",
     "output_type": "stream",
     "text": [
      "Overwriting ibmpairspass.txt\n"
     ]
    }
   ],
   "source": [
    "%%writefile ibmpairspass.txt\n",
    "pairs.res.ibm.com:<your e-mail>:<your password>"
   ]
  },
  {
   "cell_type": "markdown",
   "metadata": {},
   "source": [
    "# Imports"
   ]
  },
  {
   "cell_type": "code",
   "execution_count": 4,
   "metadata": {
    "ExecuteTime": {
     "end_time": "2019-07-30T18:41:23.235272Z",
     "start_time": "2019-07-30T18:41:22.918175Z"
    }
   },
   "outputs": [],
   "source": [
    "# plotting libraries\n",
    "from matplotlib import pyplot\n",
    "import matplotlib\n",
    "# numerical computation\n",
    "import numpy\n",
    "# handling tabular data\n",
    "import pandas\n",
    "# working with geometries\n",
    "import shapely"
   ]
  },
  {
   "cell_type": "markdown",
   "metadata": {},
   "source": [
    "# Settings"
   ]
  },
  {
   "cell_type": "code",
   "execution_count": 21,
   "metadata": {
    "ExecuteTime": {
     "end_time": "2019-07-30T19:51:04.979876Z",
     "start_time": "2019-07-30T19:51:04.976167Z"
    }
   },
   "outputs": [],
   "source": [
    "PAIRS_USER              = '<your e-mail>'\n",
    "PAIRS_SERVER            = 'pairs.res.ibm.com'\n",
    "BASE_URI                = '/'\n",
    "PAIRS_PASSWORD          = paw.get_pairs_api_password(PAIRS_SERVER, PAIRS_USER, passFile='ibmpairspass.txt')\n",
    "PAIRS_CREDENTIALS       = (PAIRS_USER, PAIRS_PASSWORD)"
   ]
  },
  {
   "cell_type": "markdown",
   "metadata": {},
   "source": [
    "# How to do point queries to IBM PAIRS (temperature time series, PRISM data)"
   ]
  },
  {
   "cell_type": "markdown",
   "metadata": {
    "heading_collapsed": true
   },
   "source": [
    "## Point queries from raster data"
   ]
  },
  {
   "cell_type": "code",
   "execution_count": 7,
   "metadata": {
    "ExecuteTime": {
     "end_time": "2019-07-30T18:42:25.096975Z",
     "start_time": "2019-07-30T18:42:25.078815Z"
    },
    "hidden": true
   },
   "outputs": [],
   "source": [
    "# define point query\n",
    "pointQueryDef = {\n",
    "    \"layers\" : [\n",
    "        {\"type\": \"raster\", \"id\": \"92\"}\n",
    "    ],\n",
    "    \"spatial\": {\n",
    "        \"type\": \"point\", \n",
    "        \"coordinates\": [\"39\", \"-100.7\", \"40\", \"-90\"]\n",
    "    },\n",
    "    \"temporal\": {\n",
    "        \"intervals\": [\n",
    "            {\n",
    "                \"start\": \"2018-01-01T00:00:00Z\",\n",
    "                \"end\": \"2018-01-05T00:00:00Z\"\n",
    "            }\n",
    "        ]\n",
    "    }\n",
    "}"
   ]
  },
  {
   "cell_type": "code",
   "execution_count": 8,
   "metadata": {
    "ExecuteTime": {
     "end_time": "2019-07-30T18:42:28.003263Z",
     "start_time": "2019-07-30T18:42:27.950688Z"
    },
    "hidden": true
   },
   "outputs": [
    {
     "name": "stderr",
     "output_type": "stream",
     "text": [
      "INFO - 2019-07-30 14:42:27,959: \"PAIRS query JSON initialized.\" [__init__]\n"
     ]
    }
   ],
   "source": [
    "# define PAIRS point query object\n",
    "pointQuery = paw.PAIRSQuery(\n",
    "    pointQueryDef,\n",
    "    'https://'+PAIRS_SERVER,\n",
    "    PAIRS_CREDENTIALS,\n",
    "    baseURI=BASE_URI,\n",
    ")"
   ]
  },
  {
   "cell_type": "code",
   "execution_count": 9,
   "metadata": {
    "ExecuteTime": {
     "end_time": "2019-07-30T18:42:29.777565Z",
     "start_time": "2019-07-30T18:42:29.537854Z"
    },
    "hidden": true
   },
   "outputs": [
    {
     "name": "stderr",
     "output_type": "stream",
     "text": [
      "INFO - 2019-07-30 14:42:29,753: \"Point data successfully imported into self.vdf\" [submit]\n",
      "INFO - 2019-07-30 14:42:29,762: \"Timestamp column 'timestamp' detected.\" [submit]\n",
      "WARNING - 2019-07-30 14:42:29,770: \"GeoPandas not available on your system. Cannot convert vector dataframe to GeoPandas dataframe.\" [set_lat_lon_columns]\n",
      "INFO - 2019-07-30 14:42:29,773: \"Geo-coordinate columns 'longitude' and 'latitude' detected.\" [submit]\n"
     ]
    }
   ],
   "source": [
    "# submit PAIRS point query\n",
    "pointQuery.submit()\n",
    "pointQuery.poll_till_finished()\n",
    "pointQuery.download()\n",
    "pointQuery.create_layers()"
   ]
  },
  {
   "cell_type": "code",
   "execution_count": 10,
   "metadata": {
    "ExecuteTime": {
     "end_time": "2019-07-30T18:42:32.401022Z",
     "start_time": "2019-07-30T18:42:32.336310Z"
    },
    "hidden": true
   },
   "outputs": [
    {
     "data": {
      "text/html": [
       "<div>\n",
       "<style scoped>\n",
       "    .dataframe tbody tr th:only-of-type {\n",
       "        vertical-align: middle;\n",
       "    }\n",
       "\n",
       "    .dataframe tbody tr th {\n",
       "        vertical-align: top;\n",
       "    }\n",
       "\n",
       "    .dataframe thead th {\n",
       "        text-align: right;\n",
       "    }\n",
       "</style>\n",
       "<table border=\"1\" class=\"dataframe\">\n",
       "  <thead>\n",
       "    <tr style=\"text-align: right;\">\n",
       "      <th></th>\n",
       "      <th>dataset</th>\n",
       "      <th>latitude</th>\n",
       "      <th>layerId</th>\n",
       "      <th>layerName</th>\n",
       "      <th>longitude</th>\n",
       "      <th>timestamp</th>\n",
       "      <th>value</th>\n",
       "      <th>geometry</th>\n",
       "    </tr>\n",
       "  </thead>\n",
       "  <tbody>\n",
       "    <tr>\n",
       "      <th>0</th>\n",
       "      <td>Daily US weather (PRISM)</td>\n",
       "      <td>39.0</td>\n",
       "      <td>92</td>\n",
       "      <td>Daily maximum temperature</td>\n",
       "      <td>-100.7</td>\n",
       "      <td>2018-01-01 12:00:00+00:00</td>\n",
       "      <td>264.970947265625</td>\n",
       "      <td>POINT (-100.7 39)</td>\n",
       "    </tr>\n",
       "    <tr>\n",
       "      <th>1</th>\n",
       "      <td>Daily US weather (PRISM)</td>\n",
       "      <td>39.0</td>\n",
       "      <td>92</td>\n",
       "      <td>Daily maximum temperature</td>\n",
       "      <td>-100.7</td>\n",
       "      <td>2018-01-02 12:00:00+00:00</td>\n",
       "      <td>273.7857666015625</td>\n",
       "      <td>POINT (-100.7 39)</td>\n",
       "    </tr>\n",
       "    <tr>\n",
       "      <th>2</th>\n",
       "      <td>Daily US weather (PRISM)</td>\n",
       "      <td>39.0</td>\n",
       "      <td>92</td>\n",
       "      <td>Daily maximum temperature</td>\n",
       "      <td>-100.7</td>\n",
       "      <td>2018-01-03 12:00:00+00:00</td>\n",
       "      <td>280.50518798828125</td>\n",
       "      <td>POINT (-100.7 39)</td>\n",
       "    </tr>\n",
       "    <tr>\n",
       "      <th>3</th>\n",
       "      <td>Daily US weather (PRISM)</td>\n",
       "      <td>39.0</td>\n",
       "      <td>92</td>\n",
       "      <td>Daily maximum temperature</td>\n",
       "      <td>-100.7</td>\n",
       "      <td>2018-01-04 12:00:00+00:00</td>\n",
       "      <td>284.0499267578125</td>\n",
       "      <td>POINT (-100.7 39)</td>\n",
       "    </tr>\n",
       "  </tbody>\n",
       "</table>\n",
       "</div>"
      ],
      "text/plain": [
       "                    dataset  latitude layerId                  layerName  \\\n",
       "0  Daily US weather (PRISM)      39.0      92  Daily maximum temperature   \n",
       "1  Daily US weather (PRISM)      39.0      92  Daily maximum temperature   \n",
       "2  Daily US weather (PRISM)      39.0      92  Daily maximum temperature   \n",
       "3  Daily US weather (PRISM)      39.0      92  Daily maximum temperature   \n",
       "\n",
       "   longitude                 timestamp               value           geometry  \n",
       "0     -100.7 2018-01-01 12:00:00+00:00    264.970947265625  POINT (-100.7 39)  \n",
       "1     -100.7 2018-01-02 12:00:00+00:00   273.7857666015625  POINT (-100.7 39)  \n",
       "2     -100.7 2018-01-03 12:00:00+00:00  280.50518798828125  POINT (-100.7 39)  \n",
       "3     -100.7 2018-01-04 12:00:00+00:00   284.0499267578125  POINT (-100.7 39)  "
      ]
     },
     "execution_count": 10,
     "metadata": {},
     "output_type": "execute_result"
    }
   ],
   "source": [
    "# show result\n",
    "pointQuery.vdf.head()"
   ]
  },
  {
   "cell_type": "code",
   "execution_count": 11,
   "metadata": {
    "ExecuteTime": {
     "end_time": "2019-07-30T18:42:36.446924Z",
     "start_time": "2019-07-30T18:42:36.412817Z"
    },
    "hidden": true
   },
   "outputs": [
    {
     "name": "stderr",
     "output_type": "stream",
     "text": [
      "WARNING - 2019-07-30 14:42:36,417: \"GeoPandas not available on your system. Cannot convert vector dataframe to GeoPandas dataframe.\" [set_lat_lon_columns]\n"
     ]
    },
    {
     "data": {
      "text/html": [
       "<div>\n",
       "<style scoped>\n",
       "    .dataframe tbody tr th:only-of-type {\n",
       "        vertical-align: middle;\n",
       "    }\n",
       "\n",
       "    .dataframe tbody tr th {\n",
       "        vertical-align: top;\n",
       "    }\n",
       "\n",
       "    .dataframe thead th {\n",
       "        text-align: right;\n",
       "    }\n",
       "</style>\n",
       "<table border=\"1\" class=\"dataframe\">\n",
       "  <thead>\n",
       "    <tr style=\"text-align: right;\">\n",
       "      <th></th>\n",
       "      <th>dataset</th>\n",
       "      <th>latitude</th>\n",
       "      <th>layerId</th>\n",
       "      <th>layerName</th>\n",
       "      <th>longitude</th>\n",
       "      <th>timestamp</th>\n",
       "      <th>value</th>\n",
       "      <th>geometry</th>\n",
       "    </tr>\n",
       "  </thead>\n",
       "  <tbody>\n",
       "    <tr>\n",
       "      <th>0</th>\n",
       "      <td>Daily US weather (PRISM)</td>\n",
       "      <td>39.0</td>\n",
       "      <td>92</td>\n",
       "      <td>Daily maximum temperature</td>\n",
       "      <td>-100.7</td>\n",
       "      <td>2018-01-01 12:00:00+00:00</td>\n",
       "      <td>264.970947265625</td>\n",
       "      <td>POINT (-100.7 39)</td>\n",
       "    </tr>\n",
       "    <tr>\n",
       "      <th>1</th>\n",
       "      <td>Daily US weather (PRISM)</td>\n",
       "      <td>39.0</td>\n",
       "      <td>92</td>\n",
       "      <td>Daily maximum temperature</td>\n",
       "      <td>-100.7</td>\n",
       "      <td>2018-01-02 12:00:00+00:00</td>\n",
       "      <td>273.7857666015625</td>\n",
       "      <td>POINT (-100.7 39)</td>\n",
       "    </tr>\n",
       "    <tr>\n",
       "      <th>2</th>\n",
       "      <td>Daily US weather (PRISM)</td>\n",
       "      <td>39.0</td>\n",
       "      <td>92</td>\n",
       "      <td>Daily maximum temperature</td>\n",
       "      <td>-100.7</td>\n",
       "      <td>2018-01-03 12:00:00+00:00</td>\n",
       "      <td>280.50518798828125</td>\n",
       "      <td>POINT (-100.7 39)</td>\n",
       "    </tr>\n",
       "    <tr>\n",
       "      <th>3</th>\n",
       "      <td>Daily US weather (PRISM)</td>\n",
       "      <td>39.0</td>\n",
       "      <td>92</td>\n",
       "      <td>Daily maximum temperature</td>\n",
       "      <td>-100.7</td>\n",
       "      <td>2018-01-04 12:00:00+00:00</td>\n",
       "      <td>284.0499267578125</td>\n",
       "      <td>POINT (-100.7 39)</td>\n",
       "    </tr>\n",
       "  </tbody>\n",
       "</table>\n",
       "</div>"
      ],
      "text/plain": [
       "                    dataset  latitude layerId                  layerName  \\\n",
       "0  Daily US weather (PRISM)      39.0      92  Daily maximum temperature   \n",
       "1  Daily US weather (PRISM)      39.0      92  Daily maximum temperature   \n",
       "2  Daily US weather (PRISM)      39.0      92  Daily maximum temperature   \n",
       "3  Daily US weather (PRISM)      39.0      92  Daily maximum temperature   \n",
       "\n",
       "   longitude                 timestamp               value           geometry  \n",
       "0     -100.7 2018-01-01 12:00:00+00:00    264.970947265625  POINT (-100.7 39)  \n",
       "1     -100.7 2018-01-02 12:00:00+00:00   273.7857666015625  POINT (-100.7 39)  \n",
       "2     -100.7 2018-01-03 12:00:00+00:00  280.50518798828125  POINT (-100.7 39)  \n",
       "3     -100.7 2018-01-04 12:00:00+00:00   284.0499267578125  POINT (-100.7 39)  "
      ]
     },
     "execution_count": 11,
     "metadata": {},
     "output_type": "execute_result"
    }
   ],
   "source": [
    "# format columns identified for temporal and spatial tags (user defined)\n",
    "## note: required only, if not automatically detected (cf. output above)\n",
    "pointQuery.set_timestamp_column('timestamp')\n",
    "pointQuery.set_lat_lon_columns('latitude', 'longitude', 'geometry')\n",
    "pointQuery.vdf.head()"
   ]
  },
  {
   "cell_type": "markdown",
   "metadata": {},
   "source": [
    "## Point queries from vector data"
   ]
  },
  {
   "cell_type": "code",
   "execution_count": 36,
   "metadata": {
    "ExecuteTime": {
     "end_time": "2019-07-30T20:12:46.739166Z",
     "start_time": "2019-07-30T20:12:46.713157Z"
    }
   },
   "outputs": [],
   "source": [
    "# define point query\n",
    "pointQueryDef2 = {\n",
    "    \"layers\" : [\n",
    "        {\"id\": \"P515C5656\"}\n",
    "    ],\n",
    "    \"spatial\": {\n",
    "        \"type\": \"point\", \n",
    "        \"coordinates\": [\"39\", \"-100.7\"]\n",
    "    },\n",
    "    \"temporal\": {\n",
    "        \"intervals\": [\n",
    "            {\n",
    "                \"start\": \"2018-04-01T00:00:00Z\",\n",
    "                \"end\": \"2018-04-10T00:00:00Z\"\n",
    "            }\n",
    "        ]\n",
    "    }\n",
    "}"
   ]
  },
  {
   "cell_type": "code",
   "execution_count": 37,
   "metadata": {
    "ExecuteTime": {
     "end_time": "2019-07-30T20:12:47.179690Z",
     "start_time": "2019-07-30T20:12:47.169248Z"
    }
   },
   "outputs": [
    {
     "name": "stderr",
     "output_type": "stream",
     "text": [
      "INFO - 2019-07-30 16:12:47,171: \"PAIRS query JSON initialized.\" [__init__]\n"
     ]
    }
   ],
   "source": [
    "# define PAIRS point query object\n",
    "pointQuery2 = paw.PAIRSQuery(\n",
    "    pointQueryDef2,\n",
    "    'https://'+PAIRS_SERVER,\n",
    "    PAIRS_CREDENTIALS,\n",
    "    baseURI=BASE_URI,\n",
    ")"
   ]
  },
  {
   "cell_type": "code",
   "execution_count": 38,
   "metadata": {
    "ExecuteTime": {
     "end_time": "2019-07-30T20:12:49.019541Z",
     "start_time": "2019-07-30T20:12:47.702989Z"
    }
   },
   "outputs": [
    {
     "name": "stderr",
     "output_type": "stream",
     "text": [
      "INFO - 2019-07-30 16:12:49,014: \"Point data successfully imported into self.vdf\" [submit]\n",
      "INFO - 2019-07-30 16:12:49,016: \"Timestamp column 'timestamp' detected.\" [submit]\n",
      "WARNING - 2019-07-30 16:12:49,016: \"No geo-coordinate columns '['longitude', 'latitude']' detected.\" [submit]\n"
     ]
    }
   ],
   "source": [
    "# submit PAIRS point query\n",
    "pointQuery2.submit()\n",
    "pointQuery2.poll_till_finished()\n",
    "pointQuery2.download()\n",
    "pointQuery2.create_layers()"
   ]
  },
  {
   "cell_type": "code",
   "execution_count": 39,
   "metadata": {
    "ExecuteTime": {
     "end_time": "2019-07-30T20:12:51.329174Z",
     "start_time": "2019-07-30T20:12:51.306218Z"
    }
   },
   "outputs": [
    {
     "data": {
      "text/html": [
       "<div>\n",
       "<style scoped>\n",
       "    .dataframe tbody tr th:only-of-type {\n",
       "        vertical-align: middle;\n",
       "    }\n",
       "\n",
       "    .dataframe tbody tr th {\n",
       "        vertical-align: top;\n",
       "    }\n",
       "\n",
       "    .dataframe thead th {\n",
       "        text-align: right;\n",
       "    }\n",
       "</style>\n",
       "<table border=\"1\" class=\"dataframe\">\n",
       "  <thead>\n",
       "    <tr style=\"text-align: right;\">\n",
       "      <th></th>\n",
       "      <th>dataset</th>\n",
       "      <th>layerId</th>\n",
       "      <th>layerName</th>\n",
       "      <th>property</th>\n",
       "      <th>region</th>\n",
       "      <th>timestamp</th>\n",
       "      <th>unit</th>\n",
       "      <th>value</th>\n",
       "    </tr>\n",
       "  </thead>\n",
       "  <tbody>\n",
       "    <tr>\n",
       "      <th>0</th>\n",
       "      <td>Example data</td>\n",
       "      <td>P515C5656</td>\n",
       "      <td>tmax</td>\n",
       "      <td>county:50897</td>\n",
       "      <td>50897</td>\n",
       "      <td>2018-04-01 12:00:00+00:00</td>\n",
       "      <td>C</td>\n",
       "      <td>4.24828</td>\n",
       "    </tr>\n",
       "    <tr>\n",
       "      <th>1</th>\n",
       "      <td>Example data</td>\n",
       "      <td>P515C5656</td>\n",
       "      <td>tmax</td>\n",
       "      <td>county:50897</td>\n",
       "      <td>50897</td>\n",
       "      <td>2018-04-02 12:00:00+00:00</td>\n",
       "      <td>C</td>\n",
       "      <td>23.0942</td>\n",
       "    </tr>\n",
       "    <tr>\n",
       "      <th>2</th>\n",
       "      <td>Example data</td>\n",
       "      <td>P515C5656</td>\n",
       "      <td>tmax</td>\n",
       "      <td>county:50897</td>\n",
       "      <td>50897</td>\n",
       "      <td>2018-04-03 12:00:00+00:00</td>\n",
       "      <td>C</td>\n",
       "      <td>7.96081</td>\n",
       "    </tr>\n",
       "    <tr>\n",
       "      <th>3</th>\n",
       "      <td>Example data</td>\n",
       "      <td>P515C5656</td>\n",
       "      <td>tmax</td>\n",
       "      <td>county:50897</td>\n",
       "      <td>50897</td>\n",
       "      <td>2018-04-04 12:00:00+00:00</td>\n",
       "      <td>C</td>\n",
       "      <td>20.3934</td>\n",
       "    </tr>\n",
       "    <tr>\n",
       "      <th>4</th>\n",
       "      <td>Example data</td>\n",
       "      <td>P515C5656</td>\n",
       "      <td>tmax</td>\n",
       "      <td>county:50897</td>\n",
       "      <td>50897</td>\n",
       "      <td>2018-04-05 12:00:00+00:00</td>\n",
       "      <td>C</td>\n",
       "      <td>22.0094</td>\n",
       "    </tr>\n",
       "  </tbody>\n",
       "</table>\n",
       "</div>"
      ],
      "text/plain": [
       "        dataset    layerId layerName      property region  \\\n",
       "0  Example data  P515C5656      tmax  county:50897  50897   \n",
       "1  Example data  P515C5656      tmax  county:50897  50897   \n",
       "2  Example data  P515C5656      tmax  county:50897  50897   \n",
       "3  Example data  P515C5656      tmax  county:50897  50897   \n",
       "4  Example data  P515C5656      tmax  county:50897  50897   \n",
       "\n",
       "                  timestamp unit    value  \n",
       "0 2018-04-01 12:00:00+00:00    C  4.24828  \n",
       "1 2018-04-02 12:00:00+00:00    C  23.0942  \n",
       "2 2018-04-03 12:00:00+00:00    C  7.96081  \n",
       "3 2018-04-04 12:00:00+00:00    C  20.3934  \n",
       "4 2018-04-05 12:00:00+00:00    C  22.0094  "
      ]
     },
     "execution_count": 39,
     "metadata": {},
     "output_type": "execute_result"
    }
   ],
   "source": [
    "pointQuery2.vdf.head()"
   ]
  },
  {
   "cell_type": "code",
   "execution_count": 40,
   "metadata": {
    "ExecuteTime": {
     "end_time": "2019-07-30T20:12:54.355655Z",
     "start_time": "2019-07-30T20:12:54.319867Z"
    }
   },
   "outputs": [
    {
     "data": {
      "text/html": [
       "<div>\n",
       "<style scoped>\n",
       "    .dataframe tbody tr th:only-of-type {\n",
       "        vertical-align: middle;\n",
       "    }\n",
       "\n",
       "    .dataframe tbody tr th {\n",
       "        vertical-align: top;\n",
       "    }\n",
       "\n",
       "    .dataframe thead th {\n",
       "        text-align: right;\n",
       "    }\n",
       "</style>\n",
       "<table border=\"1\" class=\"dataframe\">\n",
       "  <thead>\n",
       "    <tr style=\"text-align: right;\">\n",
       "      <th></th>\n",
       "      <th>dataset</th>\n",
       "      <th>layerId</th>\n",
       "      <th>layerName</th>\n",
       "      <th>property</th>\n",
       "      <th>region</th>\n",
       "      <th>timestamp</th>\n",
       "      <th>unit</th>\n",
       "      <th>value</th>\n",
       "      <th>county</th>\n",
       "    </tr>\n",
       "  </thead>\n",
       "  <tbody>\n",
       "    <tr>\n",
       "      <th>0</th>\n",
       "      <td>Example data</td>\n",
       "      <td>P515C5656</td>\n",
       "      <td>tmax</td>\n",
       "      <td>county:50897</td>\n",
       "      <td>50897</td>\n",
       "      <td>2018-04-01 12:00:00+00:00</td>\n",
       "      <td>C</td>\n",
       "      <td>4.24828</td>\n",
       "      <td>50897</td>\n",
       "    </tr>\n",
       "    <tr>\n",
       "      <th>1</th>\n",
       "      <td>Example data</td>\n",
       "      <td>P515C5656</td>\n",
       "      <td>tmax</td>\n",
       "      <td>county:50897</td>\n",
       "      <td>50897</td>\n",
       "      <td>2018-04-02 12:00:00+00:00</td>\n",
       "      <td>C</td>\n",
       "      <td>23.0942</td>\n",
       "      <td>50897</td>\n",
       "    </tr>\n",
       "    <tr>\n",
       "      <th>2</th>\n",
       "      <td>Example data</td>\n",
       "      <td>P515C5656</td>\n",
       "      <td>tmax</td>\n",
       "      <td>county:50897</td>\n",
       "      <td>50897</td>\n",
       "      <td>2018-04-03 12:00:00+00:00</td>\n",
       "      <td>C</td>\n",
       "      <td>7.96081</td>\n",
       "      <td>50897</td>\n",
       "    </tr>\n",
       "    <tr>\n",
       "      <th>3</th>\n",
       "      <td>Example data</td>\n",
       "      <td>P515C5656</td>\n",
       "      <td>tmax</td>\n",
       "      <td>county:50897</td>\n",
       "      <td>50897</td>\n",
       "      <td>2018-04-04 12:00:00+00:00</td>\n",
       "      <td>C</td>\n",
       "      <td>20.3934</td>\n",
       "      <td>50897</td>\n",
       "    </tr>\n",
       "    <tr>\n",
       "      <th>4</th>\n",
       "      <td>Example data</td>\n",
       "      <td>P515C5656</td>\n",
       "      <td>tmax</td>\n",
       "      <td>county:50897</td>\n",
       "      <td>50897</td>\n",
       "      <td>2018-04-05 12:00:00+00:00</td>\n",
       "      <td>C</td>\n",
       "      <td>22.0094</td>\n",
       "      <td>50897</td>\n",
       "    </tr>\n",
       "  </tbody>\n",
       "</table>\n",
       "</div>"
      ],
      "text/plain": [
       "        dataset    layerId layerName      property region  \\\n",
       "0  Example data  P515C5656      tmax  county:50897  50897   \n",
       "1  Example data  P515C5656      tmax  county:50897  50897   \n",
       "2  Example data  P515C5656      tmax  county:50897  50897   \n",
       "3  Example data  P515C5656      tmax  county:50897  50897   \n",
       "4  Example data  P515C5656      tmax  county:50897  50897   \n",
       "\n",
       "                  timestamp unit    value county  \n",
       "0 2018-04-01 12:00:00+00:00    C  4.24828  50897  \n",
       "1 2018-04-02 12:00:00+00:00    C  23.0942  50897  \n",
       "2 2018-04-03 12:00:00+00:00    C  7.96081  50897  \n",
       "3 2018-04-04 12:00:00+00:00    C  20.3934  50897  \n",
       "4 2018-04-05 12:00:00+00:00    C  22.0094  50897  "
      ]
     },
     "execution_count": 40,
     "metadata": {},
     "output_type": "execute_result"
    }
   ],
   "source": [
    "# split the property string column\n",
    "pointQuery2.split_property_string_column()\n",
    "pointQuery2.vdf.head()"
   ]
  },
  {
   "cell_type": "markdown",
   "metadata": {},
   "source": [
    "# How to get raster data from IBM PAIRS (U.S. weather data, PRISM)"
   ]
  },
  {
   "cell_type": "code",
   "execution_count": 65,
   "metadata": {
    "ExecuteTime": {
     "end_time": "2019-07-30T20:21:25.564166Z",
     "start_time": "2019-07-30T20:21:25.541403Z"
    },
    "run_control": {
     "marked": false
    }
   },
   "outputs": [],
   "source": [
    "rasterQueryDef = {\n",
    "    \"layers\" : [\n",
    "        {\"id\" : 92}, # temperature\n",
    "        {\"id\" : 91}, # precipitation\n",
    "    ],\n",
    "    \"spatial\" : {\n",
    "        \"type\" :        \"square\",\n",
    "        \"coordinates\" : [23, -125, 50, -67], \n",
    "    },\n",
    "    \"temporal\" : {\n",
    "        \"intervals\": [\n",
    "            {\n",
    "                \"start\": \"2018-01-01T00:00:00Z\",\n",
    "                \"end\": \"2018-01-03T00:00:00Z\"\n",
    "            }\n",
    "        ]\n",
    "\n",
    "    }\n",
    "}"
   ]
  },
  {
   "cell_type": "code",
   "execution_count": 66,
   "metadata": {
    "ExecuteTime": {
     "end_time": "2019-07-30T20:22:07.792445Z",
     "start_time": "2019-07-30T20:21:25.862109Z"
    }
   },
   "outputs": [
    {
     "name": "stderr",
     "output_type": "stream",
     "text": [
      "INFO - 2019-07-30 16:21:25,865: \"PAIRS query JSON initialized.\" [__init__]\n",
      "INFO - 2019-07-30 16:21:25,960: \"Query successfully submitted, reference ID: 1564502400_15685945\" [submit]\n",
      "INFO - 2019-07-30 16:21:26,154: \"Query status is 'Queued'.\" [poll_till_finished]\n",
      "INFO - 2019-07-30 16:21:36,279: \"Query status is 'Running'.\" [poll_till_finished]\n",
      "INFO - 2019-07-30 16:21:46,417: \"Query status is 'Running'.\" [poll_till_finished]\n",
      "INFO - 2019-07-30 16:21:56,574: \"Query status is 'Writing'.\" [poll_till_finished]\n",
      "INFO - 2019-07-30 16:22:06,666: \"Query status is 'Succeeded'.\" [poll_till_finished]\n",
      "INFO - 2019-07-30 16:22:07,766: \"Here we go, PAIRS query result successfully downloaded as '1564502400_15685945_ea5b868cea3c07847595515e82494845.zip'.\" [download]\n",
      "INFO - 2019-07-30 16:22:07,772: \"Data acknowledgement successfully loaded, print with `self.print_data_acknowledgement()`\" [read_data_acknowledgement]\n",
      "INFO - 2019-07-30 16:22:07,775: \"PAIRS meta data loaded from 'output.info'.\" [list_layers]\n"
     ]
    }
   ],
   "source": [
    "# create PAIRS query instance\n",
    "rasterQuery = paw.PAIRSQuery(\n",
    "    rasterQueryDef,\n",
    "    pairsHost   = 'https://'+PAIRS_SERVER,\n",
    "    auth        = PAIRS_CREDENTIALS,\n",
    "    baseURI     = BASE_URI,\n",
    ")\n",
    "# submit and download modified query\n",
    "rasterQuery.submit()\n",
    "rasterQuery.poll_till_finished(printStatus=True)\n",
    "rasterQuery.download()"
   ]
  },
  {
   "cell_type": "code",
   "execution_count": 67,
   "metadata": {
    "ExecuteTime": {
     "end_time": "2019-07-30T20:22:07.854893Z",
     "start_time": "2019-07-30T20:22:07.839086Z"
    }
   },
   "outputs": [
    {
     "name": "stdout",
     "output_type": "stream",
     "text": [
      "\n",
      "    layer key: Daily US weather (PRISM)-Daily maximum temperature-01_02_2018T12_00_00\n",
      "    meta data: {'details': {'pixelType': 'fl', 'pixelNoDataVal': -9999.0, 'rasterStatistics': {'pixelMax': 301.899536, 'pixelStandardDeviation': 8.362955, 'pixelCount': 783848, 'pixelMean': 273.10403, 'pixelMin': 253.077011}, 'boundingBox': {'maxLatitude': 50.509184, 'minLatitude': 22.197632, 'maxLongitude': -66.753792, 'minLongitude': -125.474048}, 'spatialRef': 'EPSG:4326', 'pixelDimensions': {'numberPixelsLatitude': 864, 'pixelSizeDegreeLatitude': 0.032768, 'pixelSizeDegreeLongitude': 0.032768, 'numberPixelsLongitude': 1792}}, 'datalayerName': 'Daily maximum temperature', 'layerType': 'raster', 'timestamp': 1514894400000, 'datalayerId': '92'}\n",
      "    \n"
     ]
    }
   ],
   "source": [
    "# show all PAIRS meta data loaded\n",
    "key, meta = list(rasterQuery.metadata.items())[0]\n",
    "print(\n",
    "    \"\"\"\n",
    "    layer key: {}\n",
    "    meta data: {}\n",
    "    \"\"\".format(key, meta)\n",
    ")"
   ]
  },
  {
   "cell_type": "code",
   "execution_count": 68,
   "metadata": {
    "ExecuteTime": {
     "end_time": "2019-07-30T20:22:07.885384Z",
     "start_time": "2019-07-30T20:22:07.879453Z"
    }
   },
   "outputs": [
    {
     "name": "stderr",
     "output_type": "stream",
     "text": [
      "INFO - 2019-07-30 16:22:07,881: \"Data acknowledgement loaded already - print with `self.print_data_acknowledgement()`\" [read_data_acknowledgement]\n"
     ]
    },
    {
     "name": "stdout",
     "output_type": "stream",
     "text": [
      "The data acknowledgement for self.data is:\n",
      "-Lansat 7 and Landsat 8 datasets are derived from U.S. Geological Survey (USGS)/NASA Landsat Program\n",
      "The USGS home page is http://www.usgs.gov  \n",
      "The NASA home page is http://www.nasa.gov  \n",
      "\n",
      "-MODIS datasets are derived from USGS MODIS program datasets \n",
      "\n",
      "-NED dataset is derived from Data available from the USGS  \n",
      "See USGS Visual Identity System Guidance http://www.usgs.gov/visual-id/   for further details\n",
      "\n",
      "-NED dataset is distributed by the Land Processes Distributed Active Archive Center (LP DAAC)\n",
      "It is located at USGS/EROS, Sioux Falls, SD. http://lpdaac.usgs.gov \n",
      "\n",
      "-Global forecast system (GFS), North America Mesoscale (NAM), Climate Forecast System (CFS) are derived products from NOAA datasets\n",
      "The NOAA home page is http://www.noaa.gov/ \n",
      "\n",
      "-soil data is derived from SSURGO datasets distributed by USDA under Creative Commons License\n",
      "The web page of USDA is http://www.usda.gov/ \n",
      "\n",
      "-ECMWF datasets are derived Type B and Type C products from data and products of the European Center for Medium-range Weather Forecasts (copyright© 2016 ECMWF)\n",
      "\n",
      "-PRISM dataset is derived from PRISM Climate Group, Oregon State University\n",
      "\n",
      "-Daymet historical weather dataset is derived from Daymet dataset distributed by Oak Ridge National Laboratory, which is under NASA's EarthData license policy https://earthdata.nasa.gov/ \n",
      "Citation to Daymet data is in this web page: https://daac.ornl.gov/DAYMET/guides/Daymet_mosaics.html#Daymet_m_citation \n",
      "Thornton, P.E., Running, S.W., White, M.A. 1997. Generating surfaces of daily meteorological variables over large regions of complex terrain. Journal of Hydrology 190: 214 - 251. http://dx.doi.org/10.1016/S0022-1694(96)03128-9 \n",
      "\n",
      "- Sentinel-2 cloudless - https://s2maps.eu by EOX IT Services GmbH (Contains modified Copernicus Sentinel data 2016 & 2017)\n",
      "\n"
     ]
    }
   ],
   "source": [
    "# check the data acknowledgement\n",
    "rasterQuery.print_data_acknowledgement()"
   ]
  },
  {
   "cell_type": "code",
   "execution_count": 69,
   "metadata": {
    "ExecuteTime": {
     "end_time": "2019-07-30T20:22:08.101226Z",
     "start_time": "2019-07-30T20:22:07.905477Z"
    }
   },
   "outputs": [],
   "source": [
    "# load data into memory\n",
    "rasterQuery.create_layers()"
   ]
  },
  {
   "cell_type": "code",
   "execution_count": 70,
   "metadata": {
    "ExecuteTime": {
     "end_time": "2019-07-30T20:22:08.217185Z",
     "start_time": "2019-07-30T20:22:08.123281Z"
    }
   },
   "outputs": [
    {
     "name": "stdout",
     "output_type": "stream",
     "text": [
      "\n",
      "    The raster bounding box for 'Daily US weather (PRISM)-Daily maximum temperature-01_02_2018T12_00_00' is:\n",
      "    [<lon min>, <lon max>, <lat min>, <lat max>]: [-125.474048, -66.753792, 22.197632, 50.509184]\n",
      "    \n"
     ]
    },
    {
     "data": {
      "application/javascript": [
       "/* Put everything inside the global mpl namespace */\n",
       "window.mpl = {};\n",
       "\n",
       "\n",
       "mpl.get_websocket_type = function() {\n",
       "    if (typeof(WebSocket) !== 'undefined') {\n",
       "        return WebSocket;\n",
       "    } else if (typeof(MozWebSocket) !== 'undefined') {\n",
       "        return MozWebSocket;\n",
       "    } else {\n",
       "        alert('Your browser does not have WebSocket support.' +\n",
       "              'Please try Chrome, Safari or Firefox ≥ 6. ' +\n",
       "              'Firefox 4 and 5 are also supported but you ' +\n",
       "              'have to enable WebSockets in about:config.');\n",
       "    };\n",
       "}\n",
       "\n",
       "mpl.figure = function(figure_id, websocket, ondownload, parent_element) {\n",
       "    this.id = figure_id;\n",
       "\n",
       "    this.ws = websocket;\n",
       "\n",
       "    this.supports_binary = (this.ws.binaryType != undefined);\n",
       "\n",
       "    if (!this.supports_binary) {\n",
       "        var warnings = document.getElementById(\"mpl-warnings\");\n",
       "        if (warnings) {\n",
       "            warnings.style.display = 'block';\n",
       "            warnings.textContent = (\n",
       "                \"This browser does not support binary websocket messages. \" +\n",
       "                    \"Performance may be slow.\");\n",
       "        }\n",
       "    }\n",
       "\n",
       "    this.imageObj = new Image();\n",
       "\n",
       "    this.context = undefined;\n",
       "    this.message = undefined;\n",
       "    this.canvas = undefined;\n",
       "    this.rubberband_canvas = undefined;\n",
       "    this.rubberband_context = undefined;\n",
       "    this.format_dropdown = undefined;\n",
       "\n",
       "    this.image_mode = 'full';\n",
       "\n",
       "    this.root = $('<div/>');\n",
       "    this._root_extra_style(this.root)\n",
       "    this.root.attr('style', 'display: inline-block');\n",
       "\n",
       "    $(parent_element).append(this.root);\n",
       "\n",
       "    this._init_header(this);\n",
       "    this._init_canvas(this);\n",
       "    this._init_toolbar(this);\n",
       "\n",
       "    var fig = this;\n",
       "\n",
       "    this.waiting = false;\n",
       "\n",
       "    this.ws.onopen =  function () {\n",
       "            fig.send_message(\"supports_binary\", {value: fig.supports_binary});\n",
       "            fig.send_message(\"send_image_mode\", {});\n",
       "            if (mpl.ratio != 1) {\n",
       "                fig.send_message(\"set_dpi_ratio\", {'dpi_ratio': mpl.ratio});\n",
       "            }\n",
       "            fig.send_message(\"refresh\", {});\n",
       "        }\n",
       "\n",
       "    this.imageObj.onload = function() {\n",
       "            if (fig.image_mode == 'full') {\n",
       "                // Full images could contain transparency (where diff images\n",
       "                // almost always do), so we need to clear the canvas so that\n",
       "                // there is no ghosting.\n",
       "                fig.context.clearRect(0, 0, fig.canvas.width, fig.canvas.height);\n",
       "            }\n",
       "            fig.context.drawImage(fig.imageObj, 0, 0);\n",
       "        };\n",
       "\n",
       "    this.imageObj.onunload = function() {\n",
       "        fig.ws.close();\n",
       "    }\n",
       "\n",
       "    this.ws.onmessage = this._make_on_message_function(this);\n",
       "\n",
       "    this.ondownload = ondownload;\n",
       "}\n",
       "\n",
       "mpl.figure.prototype._init_header = function() {\n",
       "    var titlebar = $(\n",
       "        '<div class=\"ui-dialog-titlebar ui-widget-header ui-corner-all ' +\n",
       "        'ui-helper-clearfix\"/>');\n",
       "    var titletext = $(\n",
       "        '<div class=\"ui-dialog-title\" style=\"width: 100%; ' +\n",
       "        'text-align: center; padding: 3px;\"/>');\n",
       "    titlebar.append(titletext)\n",
       "    this.root.append(titlebar);\n",
       "    this.header = titletext[0];\n",
       "}\n",
       "\n",
       "\n",
       "\n",
       "mpl.figure.prototype._canvas_extra_style = function(canvas_div) {\n",
       "\n",
       "}\n",
       "\n",
       "\n",
       "mpl.figure.prototype._root_extra_style = function(canvas_div) {\n",
       "\n",
       "}\n",
       "\n",
       "mpl.figure.prototype._init_canvas = function() {\n",
       "    var fig = this;\n",
       "\n",
       "    var canvas_div = $('<div/>');\n",
       "\n",
       "    canvas_div.attr('style', 'position: relative; clear: both; outline: 0');\n",
       "\n",
       "    function canvas_keyboard_event(event) {\n",
       "        return fig.key_event(event, event['data']);\n",
       "    }\n",
       "\n",
       "    canvas_div.keydown('key_press', canvas_keyboard_event);\n",
       "    canvas_div.keyup('key_release', canvas_keyboard_event);\n",
       "    this.canvas_div = canvas_div\n",
       "    this._canvas_extra_style(canvas_div)\n",
       "    this.root.append(canvas_div);\n",
       "\n",
       "    var canvas = $('<canvas/>');\n",
       "    canvas.addClass('mpl-canvas');\n",
       "    canvas.attr('style', \"left: 0; top: 0; z-index: 0; outline: 0\")\n",
       "\n",
       "    this.canvas = canvas[0];\n",
       "    this.context = canvas[0].getContext(\"2d\");\n",
       "\n",
       "    var backingStore = this.context.backingStorePixelRatio ||\n",
       "\tthis.context.webkitBackingStorePixelRatio ||\n",
       "\tthis.context.mozBackingStorePixelRatio ||\n",
       "\tthis.context.msBackingStorePixelRatio ||\n",
       "\tthis.context.oBackingStorePixelRatio ||\n",
       "\tthis.context.backingStorePixelRatio || 1;\n",
       "\n",
       "    mpl.ratio = (window.devicePixelRatio || 1) / backingStore;\n",
       "\n",
       "    var rubberband = $('<canvas/>');\n",
       "    rubberband.attr('style', \"position: absolute; left: 0; top: 0; z-index: 1;\")\n",
       "\n",
       "    var pass_mouse_events = true;\n",
       "\n",
       "    canvas_div.resizable({\n",
       "        start: function(event, ui) {\n",
       "            pass_mouse_events = false;\n",
       "        },\n",
       "        resize: function(event, ui) {\n",
       "            fig.request_resize(ui.size.width, ui.size.height);\n",
       "        },\n",
       "        stop: function(event, ui) {\n",
       "            pass_mouse_events = true;\n",
       "            fig.request_resize(ui.size.width, ui.size.height);\n",
       "        },\n",
       "    });\n",
       "\n",
       "    function mouse_event_fn(event) {\n",
       "        if (pass_mouse_events)\n",
       "            return fig.mouse_event(event, event['data']);\n",
       "    }\n",
       "\n",
       "    rubberband.mousedown('button_press', mouse_event_fn);\n",
       "    rubberband.mouseup('button_release', mouse_event_fn);\n",
       "    // Throttle sequential mouse events to 1 every 20ms.\n",
       "    rubberband.mousemove('motion_notify', mouse_event_fn);\n",
       "\n",
       "    rubberband.mouseenter('figure_enter', mouse_event_fn);\n",
       "    rubberband.mouseleave('figure_leave', mouse_event_fn);\n",
       "\n",
       "    canvas_div.on(\"wheel\", function (event) {\n",
       "        event = event.originalEvent;\n",
       "        event['data'] = 'scroll'\n",
       "        if (event.deltaY < 0) {\n",
       "            event.step = 1;\n",
       "        } else {\n",
       "            event.step = -1;\n",
       "        }\n",
       "        mouse_event_fn(event);\n",
       "    });\n",
       "\n",
       "    canvas_div.append(canvas);\n",
       "    canvas_div.append(rubberband);\n",
       "\n",
       "    this.rubberband = rubberband;\n",
       "    this.rubberband_canvas = rubberband[0];\n",
       "    this.rubberband_context = rubberband[0].getContext(\"2d\");\n",
       "    this.rubberband_context.strokeStyle = \"#000000\";\n",
       "\n",
       "    this._resize_canvas = function(width, height) {\n",
       "        // Keep the size of the canvas, canvas container, and rubber band\n",
       "        // canvas in synch.\n",
       "        canvas_div.css('width', width)\n",
       "        canvas_div.css('height', height)\n",
       "\n",
       "        canvas.attr('width', width * mpl.ratio);\n",
       "        canvas.attr('height', height * mpl.ratio);\n",
       "        canvas.attr('style', 'width: ' + width + 'px; height: ' + height + 'px;');\n",
       "\n",
       "        rubberband.attr('width', width);\n",
       "        rubberband.attr('height', height);\n",
       "    }\n",
       "\n",
       "    // Set the figure to an initial 600x600px, this will subsequently be updated\n",
       "    // upon first draw.\n",
       "    this._resize_canvas(600, 600);\n",
       "\n",
       "    // Disable right mouse context menu.\n",
       "    $(this.rubberband_canvas).bind(\"contextmenu\",function(e){\n",
       "        return false;\n",
       "    });\n",
       "\n",
       "    function set_focus () {\n",
       "        canvas.focus();\n",
       "        canvas_div.focus();\n",
       "    }\n",
       "\n",
       "    window.setTimeout(set_focus, 100);\n",
       "}\n",
       "\n",
       "mpl.figure.prototype._init_toolbar = function() {\n",
       "    var fig = this;\n",
       "\n",
       "    var nav_element = $('<div/>')\n",
       "    nav_element.attr('style', 'width: 100%');\n",
       "    this.root.append(nav_element);\n",
       "\n",
       "    // Define a callback function for later on.\n",
       "    function toolbar_event(event) {\n",
       "        return fig.toolbar_button_onclick(event['data']);\n",
       "    }\n",
       "    function toolbar_mouse_event(event) {\n",
       "        return fig.toolbar_button_onmouseover(event['data']);\n",
       "    }\n",
       "\n",
       "    for(var toolbar_ind in mpl.toolbar_items) {\n",
       "        var name = mpl.toolbar_items[toolbar_ind][0];\n",
       "        var tooltip = mpl.toolbar_items[toolbar_ind][1];\n",
       "        var image = mpl.toolbar_items[toolbar_ind][2];\n",
       "        var method_name = mpl.toolbar_items[toolbar_ind][3];\n",
       "\n",
       "        if (!name) {\n",
       "            // put a spacer in here.\n",
       "            continue;\n",
       "        }\n",
       "        var button = $('<button/>');\n",
       "        button.addClass('ui-button ui-widget ui-state-default ui-corner-all ' +\n",
       "                        'ui-button-icon-only');\n",
       "        button.attr('role', 'button');\n",
       "        button.attr('aria-disabled', 'false');\n",
       "        button.click(method_name, toolbar_event);\n",
       "        button.mouseover(tooltip, toolbar_mouse_event);\n",
       "\n",
       "        var icon_img = $('<span/>');\n",
       "        icon_img.addClass('ui-button-icon-primary ui-icon');\n",
       "        icon_img.addClass(image);\n",
       "        icon_img.addClass('ui-corner-all');\n",
       "\n",
       "        var tooltip_span = $('<span/>');\n",
       "        tooltip_span.addClass('ui-button-text');\n",
       "        tooltip_span.html(tooltip);\n",
       "\n",
       "        button.append(icon_img);\n",
       "        button.append(tooltip_span);\n",
       "\n",
       "        nav_element.append(button);\n",
       "    }\n",
       "\n",
       "    var fmt_picker_span = $('<span/>');\n",
       "\n",
       "    var fmt_picker = $('<select/>');\n",
       "    fmt_picker.addClass('mpl-toolbar-option ui-widget ui-widget-content');\n",
       "    fmt_picker_span.append(fmt_picker);\n",
       "    nav_element.append(fmt_picker_span);\n",
       "    this.format_dropdown = fmt_picker[0];\n",
       "\n",
       "    for (var ind in mpl.extensions) {\n",
       "        var fmt = mpl.extensions[ind];\n",
       "        var option = $(\n",
       "            '<option/>', {selected: fmt === mpl.default_extension}).html(fmt);\n",
       "        fmt_picker.append(option)\n",
       "    }\n",
       "\n",
       "    // Add hover states to the ui-buttons\n",
       "    $( \".ui-button\" ).hover(\n",
       "        function() { $(this).addClass(\"ui-state-hover\");},\n",
       "        function() { $(this).removeClass(\"ui-state-hover\");}\n",
       "    );\n",
       "\n",
       "    var status_bar = $('<span class=\"mpl-message\"/>');\n",
       "    nav_element.append(status_bar);\n",
       "    this.message = status_bar[0];\n",
       "}\n",
       "\n",
       "mpl.figure.prototype.request_resize = function(x_pixels, y_pixels) {\n",
       "    // Request matplotlib to resize the figure. Matplotlib will then trigger a resize in the client,\n",
       "    // which will in turn request a refresh of the image.\n",
       "    this.send_message('resize', {'width': x_pixels, 'height': y_pixels});\n",
       "}\n",
       "\n",
       "mpl.figure.prototype.send_message = function(type, properties) {\n",
       "    properties['type'] = type;\n",
       "    properties['figure_id'] = this.id;\n",
       "    this.ws.send(JSON.stringify(properties));\n",
       "}\n",
       "\n",
       "mpl.figure.prototype.send_draw_message = function() {\n",
       "    if (!this.waiting) {\n",
       "        this.waiting = true;\n",
       "        this.ws.send(JSON.stringify({type: \"draw\", figure_id: this.id}));\n",
       "    }\n",
       "}\n",
       "\n",
       "\n",
       "mpl.figure.prototype.handle_save = function(fig, msg) {\n",
       "    var format_dropdown = fig.format_dropdown;\n",
       "    var format = format_dropdown.options[format_dropdown.selectedIndex].value;\n",
       "    fig.ondownload(fig, format);\n",
       "}\n",
       "\n",
       "\n",
       "mpl.figure.prototype.handle_resize = function(fig, msg) {\n",
       "    var size = msg['size'];\n",
       "    if (size[0] != fig.canvas.width || size[1] != fig.canvas.height) {\n",
       "        fig._resize_canvas(size[0], size[1]);\n",
       "        fig.send_message(\"refresh\", {});\n",
       "    };\n",
       "}\n",
       "\n",
       "mpl.figure.prototype.handle_rubberband = function(fig, msg) {\n",
       "    var x0 = msg['x0'] / mpl.ratio;\n",
       "    var y0 = (fig.canvas.height - msg['y0']) / mpl.ratio;\n",
       "    var x1 = msg['x1'] / mpl.ratio;\n",
       "    var y1 = (fig.canvas.height - msg['y1']) / mpl.ratio;\n",
       "    x0 = Math.floor(x0) + 0.5;\n",
       "    y0 = Math.floor(y0) + 0.5;\n",
       "    x1 = Math.floor(x1) + 0.5;\n",
       "    y1 = Math.floor(y1) + 0.5;\n",
       "    var min_x = Math.min(x0, x1);\n",
       "    var min_y = Math.min(y0, y1);\n",
       "    var width = Math.abs(x1 - x0);\n",
       "    var height = Math.abs(y1 - y0);\n",
       "\n",
       "    fig.rubberband_context.clearRect(\n",
       "        0, 0, fig.canvas.width, fig.canvas.height);\n",
       "\n",
       "    fig.rubberband_context.strokeRect(min_x, min_y, width, height);\n",
       "}\n",
       "\n",
       "mpl.figure.prototype.handle_figure_label = function(fig, msg) {\n",
       "    // Updates the figure title.\n",
       "    fig.header.textContent = msg['label'];\n",
       "}\n",
       "\n",
       "mpl.figure.prototype.handle_cursor = function(fig, msg) {\n",
       "    var cursor = msg['cursor'];\n",
       "    switch(cursor)\n",
       "    {\n",
       "    case 0:\n",
       "        cursor = 'pointer';\n",
       "        break;\n",
       "    case 1:\n",
       "        cursor = 'default';\n",
       "        break;\n",
       "    case 2:\n",
       "        cursor = 'crosshair';\n",
       "        break;\n",
       "    case 3:\n",
       "        cursor = 'move';\n",
       "        break;\n",
       "    }\n",
       "    fig.rubberband_canvas.style.cursor = cursor;\n",
       "}\n",
       "\n",
       "mpl.figure.prototype.handle_message = function(fig, msg) {\n",
       "    fig.message.textContent = msg['message'];\n",
       "}\n",
       "\n",
       "mpl.figure.prototype.handle_draw = function(fig, msg) {\n",
       "    // Request the server to send over a new figure.\n",
       "    fig.send_draw_message();\n",
       "}\n",
       "\n",
       "mpl.figure.prototype.handle_image_mode = function(fig, msg) {\n",
       "    fig.image_mode = msg['mode'];\n",
       "}\n",
       "\n",
       "mpl.figure.prototype.updated_canvas_event = function() {\n",
       "    // Called whenever the canvas gets updated.\n",
       "    this.send_message(\"ack\", {});\n",
       "}\n",
       "\n",
       "// A function to construct a web socket function for onmessage handling.\n",
       "// Called in the figure constructor.\n",
       "mpl.figure.prototype._make_on_message_function = function(fig) {\n",
       "    return function socket_on_message(evt) {\n",
       "        if (evt.data instanceof Blob) {\n",
       "            /* FIXME: We get \"Resource interpreted as Image but\n",
       "             * transferred with MIME type text/plain:\" errors on\n",
       "             * Chrome.  But how to set the MIME type?  It doesn't seem\n",
       "             * to be part of the websocket stream */\n",
       "            evt.data.type = \"image/png\";\n",
       "\n",
       "            /* Free the memory for the previous frames */\n",
       "            if (fig.imageObj.src) {\n",
       "                (window.URL || window.webkitURL).revokeObjectURL(\n",
       "                    fig.imageObj.src);\n",
       "            }\n",
       "\n",
       "            fig.imageObj.src = (window.URL || window.webkitURL).createObjectURL(\n",
       "                evt.data);\n",
       "            fig.updated_canvas_event();\n",
       "            fig.waiting = false;\n",
       "            return;\n",
       "        }\n",
       "        else if (typeof evt.data === 'string' && evt.data.slice(0, 21) == \"data:image/png;base64\") {\n",
       "            fig.imageObj.src = evt.data;\n",
       "            fig.updated_canvas_event();\n",
       "            fig.waiting = false;\n",
       "            return;\n",
       "        }\n",
       "\n",
       "        var msg = JSON.parse(evt.data);\n",
       "        var msg_type = msg['type'];\n",
       "\n",
       "        // Call the  \"handle_{type}\" callback, which takes\n",
       "        // the figure and JSON message as its only arguments.\n",
       "        try {\n",
       "            var callback = fig[\"handle_\" + msg_type];\n",
       "        } catch (e) {\n",
       "            console.log(\"No handler for the '\" + msg_type + \"' message type: \", msg);\n",
       "            return;\n",
       "        }\n",
       "\n",
       "        if (callback) {\n",
       "            try {\n",
       "                // console.log(\"Handling '\" + msg_type + \"' message: \", msg);\n",
       "                callback(fig, msg);\n",
       "            } catch (e) {\n",
       "                console.log(\"Exception inside the 'handler_\" + msg_type + \"' callback:\", e, e.stack, msg);\n",
       "            }\n",
       "        }\n",
       "    };\n",
       "}\n",
       "\n",
       "// from http://stackoverflow.com/questions/1114465/getting-mouse-location-in-canvas\n",
       "mpl.findpos = function(e) {\n",
       "    //this section is from http://www.quirksmode.org/js/events_properties.html\n",
       "    var targ;\n",
       "    if (!e)\n",
       "        e = window.event;\n",
       "    if (e.target)\n",
       "        targ = e.target;\n",
       "    else if (e.srcElement)\n",
       "        targ = e.srcElement;\n",
       "    if (targ.nodeType == 3) // defeat Safari bug\n",
       "        targ = targ.parentNode;\n",
       "\n",
       "    // jQuery normalizes the pageX and pageY\n",
       "    // pageX,Y are the mouse positions relative to the document\n",
       "    // offset() returns the position of the element relative to the document\n",
       "    var x = e.pageX - $(targ).offset().left;\n",
       "    var y = e.pageY - $(targ).offset().top;\n",
       "\n",
       "    return {\"x\": x, \"y\": y};\n",
       "};\n",
       "\n",
       "/*\n",
       " * return a copy of an object with only non-object keys\n",
       " * we need this to avoid circular references\n",
       " * http://stackoverflow.com/a/24161582/3208463\n",
       " */\n",
       "function simpleKeys (original) {\n",
       "  return Object.keys(original).reduce(function (obj, key) {\n",
       "    if (typeof original[key] !== 'object')\n",
       "        obj[key] = original[key]\n",
       "    return obj;\n",
       "  }, {});\n",
       "}\n",
       "\n",
       "mpl.figure.prototype.mouse_event = function(event, name) {\n",
       "    var canvas_pos = mpl.findpos(event)\n",
       "\n",
       "    if (name === 'button_press')\n",
       "    {\n",
       "        this.canvas.focus();\n",
       "        this.canvas_div.focus();\n",
       "    }\n",
       "\n",
       "    var x = canvas_pos.x * mpl.ratio;\n",
       "    var y = canvas_pos.y * mpl.ratio;\n",
       "\n",
       "    this.send_message(name, {x: x, y: y, button: event.button,\n",
       "                             step: event.step,\n",
       "                             guiEvent: simpleKeys(event)});\n",
       "\n",
       "    /* This prevents the web browser from automatically changing to\n",
       "     * the text insertion cursor when the button is pressed.  We want\n",
       "     * to control all of the cursor setting manually through the\n",
       "     * 'cursor' event from matplotlib */\n",
       "    event.preventDefault();\n",
       "    return false;\n",
       "}\n",
       "\n",
       "mpl.figure.prototype._key_event_extra = function(event, name) {\n",
       "    // Handle any extra behaviour associated with a key event\n",
       "}\n",
       "\n",
       "mpl.figure.prototype.key_event = function(event, name) {\n",
       "\n",
       "    // Prevent repeat events\n",
       "    if (name == 'key_press')\n",
       "    {\n",
       "        if (event.which === this._key)\n",
       "            return;\n",
       "        else\n",
       "            this._key = event.which;\n",
       "    }\n",
       "    if (name == 'key_release')\n",
       "        this._key = null;\n",
       "\n",
       "    var value = '';\n",
       "    if (event.ctrlKey && event.which != 17)\n",
       "        value += \"ctrl+\";\n",
       "    if (event.altKey && event.which != 18)\n",
       "        value += \"alt+\";\n",
       "    if (event.shiftKey && event.which != 16)\n",
       "        value += \"shift+\";\n",
       "\n",
       "    value += 'k';\n",
       "    value += event.which.toString();\n",
       "\n",
       "    this._key_event_extra(event, name);\n",
       "\n",
       "    this.send_message(name, {key: value,\n",
       "                             guiEvent: simpleKeys(event)});\n",
       "    return false;\n",
       "}\n",
       "\n",
       "mpl.figure.prototype.toolbar_button_onclick = function(name) {\n",
       "    if (name == 'download') {\n",
       "        this.handle_save(this, null);\n",
       "    } else {\n",
       "        this.send_message(\"toolbar_button\", {name: name});\n",
       "    }\n",
       "};\n",
       "\n",
       "mpl.figure.prototype.toolbar_button_onmouseover = function(tooltip) {\n",
       "    this.message.textContent = tooltip;\n",
       "};\n",
       "mpl.toolbar_items = [[\"Home\", \"Reset original view\", \"fa fa-home icon-home\", \"home\"], [\"Back\", \"Back to previous view\", \"fa fa-arrow-left icon-arrow-left\", \"back\"], [\"Forward\", \"Forward to next view\", \"fa fa-arrow-right icon-arrow-right\", \"forward\"], [\"\", \"\", \"\", \"\"], [\"Pan\", \"Pan axes with left mouse, zoom with right\", \"fa fa-arrows icon-move\", \"pan\"], [\"Zoom\", \"Zoom to rectangle\", \"fa fa-square-o icon-check-empty\", \"zoom\"], [\"\", \"\", \"\", \"\"], [\"Download\", \"Download plot\", \"fa fa-floppy-o icon-save\", \"download\"]];\n",
       "\n",
       "mpl.extensions = [\"eps\", \"jpeg\", \"pdf\", \"png\", \"ps\", \"raw\", \"svg\", \"tif\"];\n",
       "\n",
       "mpl.default_extension = \"png\";var comm_websocket_adapter = function(comm) {\n",
       "    // Create a \"websocket\"-like object which calls the given IPython comm\n",
       "    // object with the appropriate methods. Currently this is a non binary\n",
       "    // socket, so there is still some room for performance tuning.\n",
       "    var ws = {};\n",
       "\n",
       "    ws.close = function() {\n",
       "        comm.close()\n",
       "    };\n",
       "    ws.send = function(m) {\n",
       "        //console.log('sending', m);\n",
       "        comm.send(m);\n",
       "    };\n",
       "    // Register the callback with on_msg.\n",
       "    comm.on_msg(function(msg) {\n",
       "        //console.log('receiving', msg['content']['data'], msg);\n",
       "        // Pass the mpl event to the overridden (by mpl) onmessage function.\n",
       "        ws.onmessage(msg['content']['data'])\n",
       "    });\n",
       "    return ws;\n",
       "}\n",
       "\n",
       "mpl.mpl_figure_comm = function(comm, msg) {\n",
       "    // This is the function which gets called when the mpl process\n",
       "    // starts-up an IPython Comm through the \"matplotlib\" channel.\n",
       "\n",
       "    var id = msg.content.data.id;\n",
       "    // Get hold of the div created by the display call when the Comm\n",
       "    // socket was opened in Python.\n",
       "    var element = $(\"#\" + id);\n",
       "    var ws_proxy = comm_websocket_adapter(comm)\n",
       "\n",
       "    function ondownload(figure, format) {\n",
       "        window.open(figure.imageObj.src);\n",
       "    }\n",
       "\n",
       "    var fig = new mpl.figure(id, ws_proxy,\n",
       "                           ondownload,\n",
       "                           element.get(0));\n",
       "\n",
       "    // Call onopen now - mpl needs it, as it is assuming we've passed it a real\n",
       "    // web socket which is closed, not our websocket->open comm proxy.\n",
       "    ws_proxy.onopen();\n",
       "\n",
       "    fig.parent_element = element.get(0);\n",
       "    fig.cell_info = mpl.find_output_cell(\"<div id='\" + id + \"'></div>\");\n",
       "    if (!fig.cell_info) {\n",
       "        console.error(\"Failed to find cell for figure\", id, fig);\n",
       "        return;\n",
       "    }\n",
       "\n",
       "    var output_index = fig.cell_info[2]\n",
       "    var cell = fig.cell_info[0];\n",
       "\n",
       "};\n",
       "\n",
       "mpl.figure.prototype.handle_close = function(fig, msg) {\n",
       "    var width = fig.canvas.width/mpl.ratio\n",
       "    fig.root.unbind('remove')\n",
       "\n",
       "    // Update the output cell to use the data from the current canvas.\n",
       "    fig.push_to_output();\n",
       "    var dataURL = fig.canvas.toDataURL();\n",
       "    // Re-enable the keyboard manager in IPython - without this line, in FF,\n",
       "    // the notebook keyboard shortcuts fail.\n",
       "    IPython.keyboard_manager.enable()\n",
       "    $(fig.parent_element).html('<img src=\"' + dataURL + '\" width=\"' + width + '\">');\n",
       "    fig.close_ws(fig, msg);\n",
       "}\n",
       "\n",
       "mpl.figure.prototype.close_ws = function(fig, msg){\n",
       "    fig.send_message('closing', msg);\n",
       "    // fig.ws.close()\n",
       "}\n",
       "\n",
       "mpl.figure.prototype.push_to_output = function(remove_interactive) {\n",
       "    // Turn the data on the canvas into data in the output cell.\n",
       "    var width = this.canvas.width/mpl.ratio\n",
       "    var dataURL = this.canvas.toDataURL();\n",
       "    this.cell_info[1]['text/html'] = '<img src=\"' + dataURL + '\" width=\"' + width + '\">';\n",
       "}\n",
       "\n",
       "mpl.figure.prototype.updated_canvas_event = function() {\n",
       "    // Tell IPython that the notebook contents must change.\n",
       "    IPython.notebook.set_dirty(true);\n",
       "    this.send_message(\"ack\", {});\n",
       "    var fig = this;\n",
       "    // Wait a second, then push the new image to the DOM so\n",
       "    // that it is saved nicely (might be nice to debounce this).\n",
       "    setTimeout(function () { fig.push_to_output() }, 1000);\n",
       "}\n",
       "\n",
       "mpl.figure.prototype._init_toolbar = function() {\n",
       "    var fig = this;\n",
       "\n",
       "    var nav_element = $('<div/>')\n",
       "    nav_element.attr('style', 'width: 100%');\n",
       "    this.root.append(nav_element);\n",
       "\n",
       "    // Define a callback function for later on.\n",
       "    function toolbar_event(event) {\n",
       "        return fig.toolbar_button_onclick(event['data']);\n",
       "    }\n",
       "    function toolbar_mouse_event(event) {\n",
       "        return fig.toolbar_button_onmouseover(event['data']);\n",
       "    }\n",
       "\n",
       "    for(var toolbar_ind in mpl.toolbar_items){\n",
       "        var name = mpl.toolbar_items[toolbar_ind][0];\n",
       "        var tooltip = mpl.toolbar_items[toolbar_ind][1];\n",
       "        var image = mpl.toolbar_items[toolbar_ind][2];\n",
       "        var method_name = mpl.toolbar_items[toolbar_ind][3];\n",
       "\n",
       "        if (!name) { continue; };\n",
       "\n",
       "        var button = $('<button class=\"btn btn-default\" href=\"#\" title=\"' + name + '\"><i class=\"fa ' + image + ' fa-lg\"></i></button>');\n",
       "        button.click(method_name, toolbar_event);\n",
       "        button.mouseover(tooltip, toolbar_mouse_event);\n",
       "        nav_element.append(button);\n",
       "    }\n",
       "\n",
       "    // Add the status bar.\n",
       "    var status_bar = $('<span class=\"mpl-message\" style=\"text-align:right; float: right;\"/>');\n",
       "    nav_element.append(status_bar);\n",
       "    this.message = status_bar[0];\n",
       "\n",
       "    // Add the close button to the window.\n",
       "    var buttongrp = $('<div class=\"btn-group inline pull-right\"></div>');\n",
       "    var button = $('<button class=\"btn btn-mini btn-primary\" href=\"#\" title=\"Stop Interaction\"><i class=\"fa fa-power-off icon-remove icon-large\"></i></button>');\n",
       "    button.click(function (evt) { fig.handle_close(fig, {}); } );\n",
       "    button.mouseover('Stop Interaction', toolbar_mouse_event);\n",
       "    buttongrp.append(button);\n",
       "    var titlebar = this.root.find($('.ui-dialog-titlebar'));\n",
       "    titlebar.prepend(buttongrp);\n",
       "}\n",
       "\n",
       "mpl.figure.prototype._root_extra_style = function(el){\n",
       "    var fig = this\n",
       "    el.on(\"remove\", function(){\n",
       "\tfig.close_ws(fig, {});\n",
       "    });\n",
       "}\n",
       "\n",
       "mpl.figure.prototype._canvas_extra_style = function(el){\n",
       "    // this is important to make the div 'focusable\n",
       "    el.attr('tabindex', 0)\n",
       "    // reach out to IPython and tell the keyboard manager to turn it's self\n",
       "    // off when our div gets focus\n",
       "\n",
       "    // location in version 3\n",
       "    if (IPython.notebook.keyboard_manager) {\n",
       "        IPython.notebook.keyboard_manager.register_events(el);\n",
       "    }\n",
       "    else {\n",
       "        // location in version 2\n",
       "        IPython.keyboard_manager.register_events(el);\n",
       "    }\n",
       "\n",
       "}\n",
       "\n",
       "mpl.figure.prototype._key_event_extra = function(event, name) {\n",
       "    var manager = IPython.notebook.keyboard_manager;\n",
       "    if (!manager)\n",
       "        manager = IPython.keyboard_manager;\n",
       "\n",
       "    // Check for shift+enter\n",
       "    if (event.shiftKey && event.which == 13) {\n",
       "        this.canvas_div.blur();\n",
       "        event.shiftKey = false;\n",
       "        // Send a \"J\" for go to next cell\n",
       "        event.which = 74;\n",
       "        event.keyCode = 74;\n",
       "        manager.command_mode();\n",
       "        manager.handle_keydown(event);\n",
       "    }\n",
       "}\n",
       "\n",
       "mpl.figure.prototype.handle_save = function(fig, msg) {\n",
       "    fig.ondownload(fig, null);\n",
       "}\n",
       "\n",
       "\n",
       "mpl.find_output_cell = function(html_output) {\n",
       "    // Return the cell and output element which can be found *uniquely* in the notebook.\n",
       "    // Note - this is a bit hacky, but it is done because the \"notebook_saving.Notebook\"\n",
       "    // IPython event is triggered only after the cells have been serialised, which for\n",
       "    // our purposes (turning an active figure into a static one), is too late.\n",
       "    var cells = IPython.notebook.get_cells();\n",
       "    var ncells = cells.length;\n",
       "    for (var i=0; i<ncells; i++) {\n",
       "        var cell = cells[i];\n",
       "        if (cell.cell_type === 'code'){\n",
       "            for (var j=0; j<cell.output_area.outputs.length; j++) {\n",
       "                var data = cell.output_area.outputs[j];\n",
       "                if (data.data) {\n",
       "                    // IPython >= 3 moved mimebundle to data attribute of output\n",
       "                    data = data.data;\n",
       "                }\n",
       "                if (data['text/html'] == html_output) {\n",
       "                    return [cell, data, j];\n",
       "                }\n",
       "            }\n",
       "        }\n",
       "    }\n",
       "}\n",
       "\n",
       "// Register the function which deals with the matplotlib target/channel.\n",
       "// The kernel may be null if the page has been refreshed.\n",
       "if (IPython.notebook.kernel != null) {\n",
       "    IPython.notebook.kernel.comm_manager.register_target('matplotlib', mpl.mpl_figure_comm);\n",
       "}\n"
      ],
      "text/plain": [
       "<IPython.core.display.Javascript object>"
      ]
     },
     "metadata": {},
     "output_type": "display_data"
    },
    {
     "data": {
      "text/html": [
       "<img src=\"data:image/png;base64,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\" width=\"640\">"
      ],
      "text/plain": [
       "<IPython.core.display.HTML object>"
      ]
     },
     "metadata": {},
     "output_type": "display_data"
    },
    {
     "data": {
      "text/plain": [
       "Text(0.5, 1.0, 'Daily maximum temperature (log-scale) \\n on 2018-01-02 12:00:00+00:00')"
      ]
     },
     "execution_count": 70,
     "metadata": {},
     "output_type": "execute_result"
    }
   ],
   "source": [
    "# visualize a raster\n",
    "%matplotlib notebook\n",
    "\n",
    "# reference raster by name/key\n",
    "layerNumber = 0\n",
    "layerKey    = list(rasterQuery.metadata.keys())[layerNumber]\n",
    "\n",
    "# print bounding box coordinate\n",
    "# ATTENTION: does not necessarily need to 100% coincide with box queried!\n",
    "print(\n",
    "    \"\"\"\n",
    "    The raster bounding box for '{}' is:\n",
    "    [<lon min>, <lon max>, <lat min>, <lat max>]: {}\n",
    "    \"\"\".format(\n",
    "        layerKey,\n",
    "        [\n",
    "            rasterQuery.metadata[layerKey]['details']['boundingBox']['minLongitude'],\n",
    "            rasterQuery.metadata[layerKey]['details']['boundingBox']['maxLongitude'],\n",
    "            rasterQuery.metadata[layerKey]['details']['boundingBox']['minLatitude'],\n",
    "            rasterQuery.metadata[layerKey]['details']['boundingBox']['maxLatitude'],\n",
    "        ]\n",
    "    )\n",
    ")\n",
    "\n",
    "# plot raster\n",
    "pyplot.imshow(\n",
    "    numpy.log(1.+rasterQuery.data[layerKey]),\n",
    "    extent=[\n",
    "        rasterQuery.metadata[layerKey]['details']['boundingBox']['minLongitude'],\n",
    "        rasterQuery.metadata[layerKey]['details']['boundingBox']['maxLongitude'],\n",
    "        rasterQuery.metadata[layerKey]['details']['boundingBox']['minLatitude'],\n",
    "        rasterQuery.metadata[layerKey]['details']['boundingBox']['maxLatitude'],\n",
    "    ],\n",
    ")\n",
    "\n",
    "# label plot\n",
    "pyplot.ylabel('latitude')\n",
    "pyplot.xlabel('longitude')\n",
    "pyplot.title(\n",
    "    '{} (log-scale) \\n on {}'.format(\n",
    "        rasterQuery.metadata[layerKey]['datalayerName'],\n",
    "        rasterQuery.metadata[layerKey]['timestamp'],\n",
    "    )\n",
    ")"
   ]
  },
  {
   "cell_type": "markdown",
   "metadata": {},
   "source": [
    "## More used to tabular formats?"
   ]
  },
  {
   "cell_type": "code",
   "execution_count": 58,
   "metadata": {
    "ExecuteTime": {
     "end_time": "2019-07-30T20:19:48.486206Z",
     "start_time": "2019-07-30T20:19:48.477958Z"
    },
    "run_control": {
     "marked": false
    }
   },
   "outputs": [],
   "source": [
    "rasterQueryAsCSVDef = {\n",
    "    \"layers\" : [\n",
    "        {\"id\" : 92}, # temperature\n",
    "        {\"id\" : 91}, # precipitation\n",
    "    ],\n",
    "    \"spatial\" : {\n",
    "        \"type\" :        \"square\",\n",
    "        \"coordinates\" : [23, -125, 50, -67], \n",
    "    },\n",
    "    \"temporal\" : {\n",
    "        \"intervals\": [\n",
    "            {\n",
    "                \"snapshot\": \"2018-01-01T00:00:00Z\"\n",
    "            }\n",
    "        ]\n",
    "\n",
    "    },\n",
    "    \"outputType\": \"csv\"\n",
    "}"
   ]
  },
  {
   "cell_type": "code",
   "execution_count": 59,
   "metadata": {
    "ExecuteTime": {
     "end_time": "2019-07-30T20:21:01.783146Z",
     "start_time": "2019-07-30T20:20:18.834571Z"
    }
   },
   "outputs": [
    {
     "name": "stderr",
     "output_type": "stream",
     "text": [
      "INFO - 2019-07-30 16:20:18,838: \"PAIRS query JSON initialized.\" [__init__]\n",
      "INFO - 2019-07-30 16:20:18,996: \"Query successfully submitted, reference ID: 1564502400_15618981\" [submit]\n",
      "INFO - 2019-07-30 16:20:19,192: \"Query status is 'Queued'.\" [poll_till_finished]\n",
      "INFO - 2019-07-30 16:20:29,329: \"Query status is 'Running'.\" [poll_till_finished]\n",
      "INFO - 2019-07-30 16:20:39,459: \"Query status is 'Running'.\" [poll_till_finished]\n",
      "INFO - 2019-07-30 16:20:49,534: \"Query status is 'Writing'.\" [poll_till_finished]\n",
      "INFO - 2019-07-30 16:20:59,674: \"Query status is 'Succeeded'.\" [poll_till_finished]\n",
      "INFO - 2019-07-30 16:21:01,749: \"Here we go, PAIRS query result successfully downloaded as '1564502400_15618981_58b653c7a9c40ca6b4780d773a3e7fad.zip'.\" [download]\n",
      "INFO - 2019-07-30 16:21:01,767: \"Data acknowledgement successfully loaded, print with `self.print_data_acknowledgement()`\" [read_data_acknowledgement]\n",
      "INFO - 2019-07-30 16:21:01,770: \"PAIRS meta data loaded from 'output.info'.\" [list_layers]\n"
     ]
    }
   ],
   "source": [
    "# create PAIRS query instance\n",
    "rasterQueryAsCSV = paw.PAIRSQuery(\n",
    "    rasterQueryAsCSVDef,\n",
    "    pairsHost   = 'https://'+PAIRS_SERVER,\n",
    "    auth        = PAIRS_CREDENTIALS,\n",
    "    baseURI     = BASE_URI,\n",
    ")\n",
    "# submit and download modified query\n",
    "rasterQueryAsCSV.submit()\n",
    "rasterQueryAsCSV.poll_till_finished(printStatus=True)\n",
    "rasterQueryAsCSV.download()"
   ]
  },
  {
   "cell_type": "code",
   "execution_count": 60,
   "metadata": {
    "ExecuteTime": {
     "end_time": "2019-07-30T20:21:01.820241Z",
     "start_time": "2019-07-30T20:21:01.811619Z"
    }
   },
   "outputs": [
    {
     "data": {
      "text/plain": [
       "{'Daily US weather (PRISM)-Daily maximum temperature-12_31_2017T12_00_00': {'datalayerId': '92',\n",
       "  'datalayerName': 'Daily maximum temperature',\n",
       "  'details': {'boundingBox': {'maxLatitude': 50.509184,\n",
       "    'maxLongitude': -66.753792,\n",
       "    'minLatitude': 22.197632,\n",
       "    'minLongitude': -125.474048},\n",
       "   'pixelDimensions': {'numberPixelsLatitude': 864,\n",
       "    'numberPixelsLongitude': 1792,\n",
       "    'pixelSizeDegreeLatitude': 0.032768,\n",
       "    'pixelSizeDegreeLongitude': 0.032768},\n",
       "   'pixelNoDataVal': -9999.0,\n",
       "   'pixelType': 'fl',\n",
       "   'rasterStatistics': {'pixelCount': 783848,\n",
       "    'pixelMax': 299.301605,\n",
       "    'pixelMean': 269.729418,\n",
       "    'pixelMin': 244.899887,\n",
       "    'pixelStandardDeviation': 12.679512},\n",
       "   'spatialRef': 'EPSG:4326'},\n",
       "  'layerType': 'vector',\n",
       "  'timestamp': 1514721600000},\n",
       " 'Daily US weather (PRISM)-Daily precipitation-12_31_2017T12_00_00': {'datalayerId': '91',\n",
       "  'datalayerName': 'Daily precipitation',\n",
       "  'details': {'boundingBox': {'maxLatitude': 50.509184,\n",
       "    'maxLongitude': -66.753792,\n",
       "    'minLatitude': 22.197632,\n",
       "    'minLongitude': -125.474048},\n",
       "   'pixelDimensions': {'numberPixelsLatitude': 864,\n",
       "    'numberPixelsLongitude': 1792,\n",
       "    'pixelSizeDegreeLatitude': 0.032768,\n",
       "    'pixelSizeDegreeLongitude': 0.032768},\n",
       "   'pixelNoDataVal': -9999.0,\n",
       "   'pixelType': 'fl',\n",
       "   'rasterStatistics': {'pixelCount': 783848,\n",
       "    'pixelMax': 31.527842,\n",
       "    'pixelMean': 0.179831,\n",
       "    'pixelMin': 0.0,\n",
       "    'pixelStandardDeviation': 0.953072},\n",
       "   'spatialRef': 'EPSG:4326'},\n",
       "  'layerType': 'vector',\n",
       "  'timestamp': 1514721600000}}"
      ]
     },
     "execution_count": 60,
     "metadata": {},
     "output_type": "execute_result"
    }
   ],
   "source": [
    "rasterQueryAsCSV.metadata"
   ]
  },
  {
   "cell_type": "code",
   "execution_count": 61,
   "metadata": {
    "ExecuteTime": {
     "end_time": "2019-07-30T20:21:06.921376Z",
     "start_time": "2019-07-30T20:21:01.840035Z"
    }
   },
   "outputs": [
    {
     "name": "stderr",
     "output_type": "stream",
     "text": [
      "INFO - 2019-07-30 16:21:03,090: \"'Daily US weather (PRISM)-Daily precipitation-12_31_2017T12_00_00.csv' from '1564502400_15618981_58b653c7a9c40ca6b4780d773a3e7fad.zip' loaded into Pandas dataframe.\" [create_layer]\n",
      "INFO - 2019-07-30 16:21:04,382: \"Successfully populated timestamp column 'timestamp' with '2017-12-31 12:00:00+00:00'.\" [create_layer]\n",
      "INFO - 2019-07-30 16:21:05,740: \"'Daily US weather (PRISM)-Daily maximum temperature-12_31_2017T12_00_00.csv' from '1564502400_15618981_58b653c7a9c40ca6b4780d773a3e7fad.zip' loaded into Pandas dataframe.\" [create_layer]\n",
      "INFO - 2019-07-30 16:21:06,918: \"Successfully populated timestamp column 'timestamp' with '2017-12-31 12:00:00+00:00'.\" [create_layer]\n"
     ]
    }
   ],
   "source": [
    "# load data into memory\n",
    "rasterQueryAsCSV.create_layers()"
   ]
  },
  {
   "cell_type": "code",
   "execution_count": 63,
   "metadata": {
    "ExecuteTime": {
     "end_time": "2019-07-30T20:21:07.016184Z",
     "start_time": "2019-07-30T20:21:06.995497Z"
    }
   },
   "outputs": [
    {
     "name": "stdout",
     "output_type": "stream",
     "text": [
      "data for Daily US weather (PRISM)-Daily precipitation-12_31_2017T12_00_00\n"
     ]
    },
    {
     "data": {
      "text/html": [
       "<div>\n",
       "<style scoped>\n",
       "    .dataframe tbody tr th:only-of-type {\n",
       "        vertical-align: middle;\n",
       "    }\n",
       "\n",
       "    .dataframe tbody tr th {\n",
       "        vertical-align: top;\n",
       "    }\n",
       "\n",
       "    .dataframe thead th {\n",
       "        text-align: right;\n",
       "    }\n",
       "</style>\n",
       "<table border=\"1\" class=\"dataframe\">\n",
       "  <thead>\n",
       "    <tr style=\"text-align: right;\">\n",
       "      <th></th>\n",
       "      <th>longitude</th>\n",
       "      <th>latitude</th>\n",
       "      <th>timestamp</th>\n",
       "      <th>value</th>\n",
       "    </tr>\n",
       "  </thead>\n",
       "  <tbody>\n",
       "    <tr>\n",
       "      <th>0</th>\n",
       "      <td>-92.624128</td>\n",
       "      <td>29.52128</td>\n",
       "      <td>2017-12-31 12:00:00+00:00</td>\n",
       "      <td>0.0</td>\n",
       "    </tr>\n",
       "    <tr>\n",
       "      <th>1</th>\n",
       "      <td>-92.591360</td>\n",
       "      <td>29.52128</td>\n",
       "      <td>2017-12-31 12:00:00+00:00</td>\n",
       "      <td>0.0</td>\n",
       "    </tr>\n",
       "    <tr>\n",
       "      <th>2</th>\n",
       "      <td>-92.558592</td>\n",
       "      <td>29.52128</td>\n",
       "      <td>2017-12-31 12:00:00+00:00</td>\n",
       "      <td>0.0</td>\n",
       "    </tr>\n",
       "    <tr>\n",
       "      <th>3</th>\n",
       "      <td>-92.525824</td>\n",
       "      <td>29.52128</td>\n",
       "      <td>2017-12-31 12:00:00+00:00</td>\n",
       "      <td>0.0</td>\n",
       "    </tr>\n",
       "    <tr>\n",
       "      <th>4</th>\n",
       "      <td>-92.493056</td>\n",
       "      <td>29.52128</td>\n",
       "      <td>2017-12-31 12:00:00+00:00</td>\n",
       "      <td>0.0</td>\n",
       "    </tr>\n",
       "  </tbody>\n",
       "</table>\n",
       "</div>"
      ],
      "text/plain": [
       "   longitude  latitude                 timestamp  value\n",
       "0 -92.624128  29.52128 2017-12-31 12:00:00+00:00    0.0\n",
       "1 -92.591360  29.52128 2017-12-31 12:00:00+00:00    0.0\n",
       "2 -92.558592  29.52128 2017-12-31 12:00:00+00:00    0.0\n",
       "3 -92.525824  29.52128 2017-12-31 12:00:00+00:00    0.0\n",
       "4 -92.493056  29.52128 2017-12-31 12:00:00+00:00    0.0"
      ]
     },
     "execution_count": 63,
     "metadata": {},
     "output_type": "execute_result"
    }
   ],
   "source": [
    "# show example data points\n",
    "key=list(rasterQueryAsCSV.metadata.keys())[0]\n",
    "print('data for {}'.format(key))\n",
    "rasterQueryAsCSV.data[key].head()"
   ]
  },
  {
   "cell_type": "code",
   "execution_count": 64,
   "metadata": {
    "ExecuteTime": {
     "end_time": "2019-07-30T20:21:17.647188Z",
     "start_time": "2019-07-30T20:21:17.620276Z"
    }
   },
   "outputs": [
    {
     "name": "stdout",
     "output_type": "stream",
     "text": [
      "data for Daily US weather (PRISM)-Daily maximum temperature-12_31_2017T12_00_00\n"
     ]
    },
    {
     "data": {
      "text/html": [
       "<div>\n",
       "<style scoped>\n",
       "    .dataframe tbody tr th:only-of-type {\n",
       "        vertical-align: middle;\n",
       "    }\n",
       "\n",
       "    .dataframe tbody tr th {\n",
       "        vertical-align: top;\n",
       "    }\n",
       "\n",
       "    .dataframe thead th {\n",
       "        text-align: right;\n",
       "    }\n",
       "</style>\n",
       "<table border=\"1\" class=\"dataframe\">\n",
       "  <thead>\n",
       "    <tr style=\"text-align: right;\">\n",
       "      <th></th>\n",
       "      <th>longitude</th>\n",
       "      <th>latitude</th>\n",
       "      <th>timestamp</th>\n",
       "      <th>value</th>\n",
       "    </tr>\n",
       "  </thead>\n",
       "  <tbody>\n",
       "    <tr>\n",
       "      <th>0</th>\n",
       "      <td>-92.624128</td>\n",
       "      <td>29.52128</td>\n",
       "      <td>2017-12-31 12:00:00+00:00</td>\n",
       "      <td>281.29501</td>\n",
       "    </tr>\n",
       "    <tr>\n",
       "      <th>1</th>\n",
       "      <td>-92.591360</td>\n",
       "      <td>29.52128</td>\n",
       "      <td>2017-12-31 12:00:00+00:00</td>\n",
       "      <td>281.29501</td>\n",
       "    </tr>\n",
       "    <tr>\n",
       "      <th>2</th>\n",
       "      <td>-92.558592</td>\n",
       "      <td>29.52128</td>\n",
       "      <td>2017-12-31 12:00:00+00:00</td>\n",
       "      <td>281.29974</td>\n",
       "    </tr>\n",
       "    <tr>\n",
       "      <th>3</th>\n",
       "      <td>-92.525824</td>\n",
       "      <td>29.52128</td>\n",
       "      <td>2017-12-31 12:00:00+00:00</td>\n",
       "      <td>281.31934</td>\n",
       "    </tr>\n",
       "    <tr>\n",
       "      <th>4</th>\n",
       "      <td>-92.493056</td>\n",
       "      <td>29.52128</td>\n",
       "      <td>2017-12-31 12:00:00+00:00</td>\n",
       "      <td>281.35815</td>\n",
       "    </tr>\n",
       "  </tbody>\n",
       "</table>\n",
       "</div>"
      ],
      "text/plain": [
       "   longitude  latitude                 timestamp      value\n",
       "0 -92.624128  29.52128 2017-12-31 12:00:00+00:00  281.29501\n",
       "1 -92.591360  29.52128 2017-12-31 12:00:00+00:00  281.29501\n",
       "2 -92.558592  29.52128 2017-12-31 12:00:00+00:00  281.29974\n",
       "3 -92.525824  29.52128 2017-12-31 12:00:00+00:00  281.31934\n",
       "4 -92.493056  29.52128 2017-12-31 12:00:00+00:00  281.35815"
      ]
     },
     "execution_count": 64,
     "metadata": {},
     "output_type": "execute_result"
    }
   ],
   "source": [
    "# show example data points\n",
    "# show example data points\n",
    "key=list(rasterQueryAsCSV.metadata.keys())[1]\n",
    "print('data for {}'.format(key))\n",
    "rasterQueryAsCSV.data[key].head()"
   ]
  },
  {
   "cell_type": "markdown",
   "metadata": {},
   "source": [
    "# Want to reload your cached queries?"
   ]
  },
  {
   "cell_type": "markdown",
   "metadata": {},
   "source": [
    "## Using an arbitrary IBM PAIRS query ZIP file"
   ]
  },
  {
   "cell_type": "code",
   "execution_count": 41,
   "metadata": {
    "ExecuteTime": {
     "end_time": "2019-07-30T20:13:55.642865Z",
     "start_time": "2019-07-30T20:13:55.636229Z"
    }
   },
   "outputs": [
    {
     "data": {
      "text/plain": [
       "'./downloads'"
      ]
     },
     "execution_count": 41,
     "metadata": {},
     "output_type": "execute_result"
    }
   ],
   "source": [
    "# get download directory and corresponding PAIRS query ZIP file\n",
    "rasterQuery.downloadDir"
   ]
  },
  {
   "cell_type": "code",
   "execution_count": 43,
   "metadata": {
    "ExecuteTime": {
     "end_time": "2019-07-30T20:14:06.474468Z",
     "start_time": "2019-07-30T20:14:06.348393Z"
    }
   },
   "outputs": [
    {
     "name": "stdout",
     "output_type": "stream",
     "text": [
      "total 33276\r\n",
      "drwxr-xr-x 4 cmalbrec cmalbrec    4096 Jul 30 16:12 ..\r\n",
      "-rw-r--r-- 1 cmalbrec cmalbrec 8551921 Jul 30 15:59 1564502400_14257178_58b653c7a9c40ca6b4780d773a3e7fad.zip\r\n",
      "drwxr-xr-x 2 cmalbrec cmalbrec    4096 Jul 30 15:59 .\r\n",
      "-rw-r--r-- 1 cmalbrec cmalbrec   55489 Jun 28 00:19 1561694400_01157177_b9ab8a985d37647e90921aaeed2c8acd.zip\r\n",
      "-rw-r--r-- 1 cmalbrec cmalbrec     135 Jun 28 00:14 1561694400_00849322_33ac2db7e4a812ca705bfd76f229ca8a.zip\r\n",
      "-rw-r--r-- 1 cmalbrec cmalbrec     135 Jun 28 00:13 1561694400_00813464_33ac2db7e4a812ca705bfd76f229ca8a.zip\r\n",
      "-rw-r--r-- 1 cmalbrec cmalbrec    4922 Jun 28 00:10 1561694400_00567951_aa5bc1bb73645b943f77067c22fc9d96.zip\r\n",
      "-rw-r--r-- 1 cmalbrec cmalbrec 5082709 Jun 28 00:07 1561694400_00387907_7391f8eb91a6056514d999cb8c3a9eec.zip\r\n",
      "-rw-r--r-- 1 cmalbrec cmalbrec 5082709 Jun 28 00:01 1561651200_43188611_c5906d28547fdcb4cc3a7ea768aa94c5.zip\r\n",
      "-rw-r--r-- 1 cmalbrec cmalbrec    4922 Jun 27 22:00 1561651200_35931003_b981048cd98e26e1d7ad70805795bcd9.zip\r\n",
      "-rw-r--r-- 1 cmalbrec cmalbrec 5082749 Jun 27 21:41 1561651200_34839193_fe7b6bce3edf83a62c020b3fdebb1cd6.zip\r\n",
      "-rw-r--r-- 1 cmalbrec cmalbrec    4922 Jun 27 21:38 1561651200_34645736_0030a76053f583b75b10014d0766ab1a.zip\r\n",
      "-rw-r--r-- 1 cmalbrec cmalbrec    4922 Jun 27 21:27 1561651200_34014812_0030a76053f583b75b10014d0766ab1a.zip\r\n",
      "-rw-r--r-- 1 cmalbrec cmalbrec 5082749 Jun 27 21:17 1561651200_33366869_a17b18406bbf353467310bb4d2a64dbf.zip\r\n",
      "-rw-r--r-- 1 cmalbrec cmalbrec 5082709 Jun 27 21:10 1561651200_32937008_6d5e29bcd5eddba1769d0ab589c15742.zip\r\n"
     ]
    }
   ],
   "source": [
    "!ls -lat downloads"
   ]
  },
  {
   "cell_type": "code",
   "execution_count": 44,
   "metadata": {
    "ExecuteTime": {
     "end_time": "2019-07-30T20:14:28.734129Z",
     "start_time": "2019-07-30T20:14:28.508962Z"
    }
   },
   "outputs": [
    {
     "name": "stderr",
     "output_type": "stream",
     "text": [
      "INFO - 2019-07-30 16:14:28,513: \"Will load PAIRS query data from 'downloads/1561651200_33366869_a17b18406bbf353467310bb4d2a64dbf.zip'.\" [__init__]\n",
      "INFO - 2019-07-30 16:14:28,525: \"Data acknowledgement successfully loaded, print with `self.print_data_acknowledgement()`\" [read_data_acknowledgement]\n",
      "INFO - 2019-07-30 16:14:28,528: \"PAIRS meta data loaded from 'output.info'.\" [list_layers]\n"
     ]
    }
   ],
   "source": [
    "# reload data directly from query ZIP file\n",
    "queryReload = paw.PAIRSQuery('downloads/1561651200_33366869_a17b18406bbf353467310bb4d2a64dbf.zip', None, None)\n",
    "queryReload.list_layers()\n",
    "queryReload.create_layers()"
   ]
  },
  {
   "cell_type": "code",
   "execution_count": 51,
   "metadata": {
    "ExecuteTime": {
     "end_time": "2019-07-30T20:17:06.884089Z",
     "start_time": "2019-07-30T20:17:06.852144Z"
    }
   },
   "outputs": [
    {
     "data": {
      "text/plain": [
       "{'Daily US weather (PRISM)-Daily maximum temperature-01_01_2018T12_00_00': array([[nan, nan, nan, ..., nan, nan, nan],\n",
       "        [nan, nan, nan, ..., nan, nan, nan],\n",
       "        [nan, nan, nan, ..., nan, nan, nan],\n",
       "        ...,\n",
       "        [nan, nan, nan, ..., nan, nan, nan],\n",
       "        [nan, nan, nan, ..., nan, nan, nan],\n",
       "        [nan, nan, nan, ..., nan, nan, nan]]),\n",
       " 'Daily US weather (PRISM)-Daily maximum temperature-01_02_2018T12_00_00': array([[nan, nan, nan, ..., nan, nan, nan],\n",
       "        [nan, nan, nan, ..., nan, nan, nan],\n",
       "        [nan, nan, nan, ..., nan, nan, nan],\n",
       "        ...,\n",
       "        [nan, nan, nan, ..., nan, nan, nan],\n",
       "        [nan, nan, nan, ..., nan, nan, nan],\n",
       "        [nan, nan, nan, ..., nan, nan, nan]]),\n",
       " 'Daily US weather (PRISM)-Daily precipitation-01_01_2018T12_00_00': array([[nan, nan, nan, ..., nan, nan, nan],\n",
       "        [nan, nan, nan, ..., nan, nan, nan],\n",
       "        [nan, nan, nan, ..., nan, nan, nan],\n",
       "        ...,\n",
       "        [nan, nan, nan, ..., nan, nan, nan],\n",
       "        [nan, nan, nan, ..., nan, nan, nan],\n",
       "        [nan, nan, nan, ..., nan, nan, nan]]),\n",
       " 'Daily US weather (PRISM)-Daily precipitation-01_02_2018T12_00_00': array([[nan, nan, nan, ..., nan, nan, nan],\n",
       "        [nan, nan, nan, ..., nan, nan, nan],\n",
       "        [nan, nan, nan, ..., nan, nan, nan],\n",
       "        ...,\n",
       "        [nan, nan, nan, ..., nan, nan, nan],\n",
       "        [nan, nan, nan, ..., nan, nan, nan],\n",
       "        [nan, nan, nan, ..., nan, nan, nan]])}"
      ]
     },
     "execution_count": 51,
     "metadata": {},
     "output_type": "execute_result"
    }
   ],
   "source": [
    "queryReload.data"
   ]
  },
  {
   "cell_type": "code",
   "execution_count": 56,
   "metadata": {
    "ExecuteTime": {
     "end_time": "2019-07-30T20:18:08.321323Z",
     "start_time": "2019-07-30T20:18:08.214612Z"
    },
    "scrolled": false
   },
   "outputs": [
    {
     "name": "stdout",
     "output_type": "stream",
     "text": [
      "\n",
      "    The raster bounding box for 'Daily US weather (PRISM)-Daily maximum temperature-01_02_2018T12_00_00' is:\n",
      "    [<lon min>, <lon max>, <lat min>, <lat max>]: [-125.474048, -66.753792, 22.197632, 50.509184]\n",
      "    \n"
     ]
    },
    {
     "data": {
      "application/javascript": [
       "/* Put everything inside the global mpl namespace */\n",
       "window.mpl = {};\n",
       "\n",
       "\n",
       "mpl.get_websocket_type = function() {\n",
       "    if (typeof(WebSocket) !== 'undefined') {\n",
       "        return WebSocket;\n",
       "    } else if (typeof(MozWebSocket) !== 'undefined') {\n",
       "        return MozWebSocket;\n",
       "    } else {\n",
       "        alert('Your browser does not have WebSocket support.' +\n",
       "              'Please try Chrome, Safari or Firefox ≥ 6. ' +\n",
       "              'Firefox 4 and 5 are also supported but you ' +\n",
       "              'have to enable WebSockets in about:config.');\n",
       "    };\n",
       "}\n",
       "\n",
       "mpl.figure = function(figure_id, websocket, ondownload, parent_element) {\n",
       "    this.id = figure_id;\n",
       "\n",
       "    this.ws = websocket;\n",
       "\n",
       "    this.supports_binary = (this.ws.binaryType != undefined);\n",
       "\n",
       "    if (!this.supports_binary) {\n",
       "        var warnings = document.getElementById(\"mpl-warnings\");\n",
       "        if (warnings) {\n",
       "            warnings.style.display = 'block';\n",
       "            warnings.textContent = (\n",
       "                \"This browser does not support binary websocket messages. \" +\n",
       "                    \"Performance may be slow.\");\n",
       "        }\n",
       "    }\n",
       "\n",
       "    this.imageObj = new Image();\n",
       "\n",
       "    this.context = undefined;\n",
       "    this.message = undefined;\n",
       "    this.canvas = undefined;\n",
       "    this.rubberband_canvas = undefined;\n",
       "    this.rubberband_context = undefined;\n",
       "    this.format_dropdown = undefined;\n",
       "\n",
       "    this.image_mode = 'full';\n",
       "\n",
       "    this.root = $('<div/>');\n",
       "    this._root_extra_style(this.root)\n",
       "    this.root.attr('style', 'display: inline-block');\n",
       "\n",
       "    $(parent_element).append(this.root);\n",
       "\n",
       "    this._init_header(this);\n",
       "    this._init_canvas(this);\n",
       "    this._init_toolbar(this);\n",
       "\n",
       "    var fig = this;\n",
       "\n",
       "    this.waiting = false;\n",
       "\n",
       "    this.ws.onopen =  function () {\n",
       "            fig.send_message(\"supports_binary\", {value: fig.supports_binary});\n",
       "            fig.send_message(\"send_image_mode\", {});\n",
       "            if (mpl.ratio != 1) {\n",
       "                fig.send_message(\"set_dpi_ratio\", {'dpi_ratio': mpl.ratio});\n",
       "            }\n",
       "            fig.send_message(\"refresh\", {});\n",
       "        }\n",
       "\n",
       "    this.imageObj.onload = function() {\n",
       "            if (fig.image_mode == 'full') {\n",
       "                // Full images could contain transparency (where diff images\n",
       "                // almost always do), so we need to clear the canvas so that\n",
       "                // there is no ghosting.\n",
       "                fig.context.clearRect(0, 0, fig.canvas.width, fig.canvas.height);\n",
       "            }\n",
       "            fig.context.drawImage(fig.imageObj, 0, 0);\n",
       "        };\n",
       "\n",
       "    this.imageObj.onunload = function() {\n",
       "        fig.ws.close();\n",
       "    }\n",
       "\n",
       "    this.ws.onmessage = this._make_on_message_function(this);\n",
       "\n",
       "    this.ondownload = ondownload;\n",
       "}\n",
       "\n",
       "mpl.figure.prototype._init_header = function() {\n",
       "    var titlebar = $(\n",
       "        '<div class=\"ui-dialog-titlebar ui-widget-header ui-corner-all ' +\n",
       "        'ui-helper-clearfix\"/>');\n",
       "    var titletext = $(\n",
       "        '<div class=\"ui-dialog-title\" style=\"width: 100%; ' +\n",
       "        'text-align: center; padding: 3px;\"/>');\n",
       "    titlebar.append(titletext)\n",
       "    this.root.append(titlebar);\n",
       "    this.header = titletext[0];\n",
       "}\n",
       "\n",
       "\n",
       "\n",
       "mpl.figure.prototype._canvas_extra_style = function(canvas_div) {\n",
       "\n",
       "}\n",
       "\n",
       "\n",
       "mpl.figure.prototype._root_extra_style = function(canvas_div) {\n",
       "\n",
       "}\n",
       "\n",
       "mpl.figure.prototype._init_canvas = function() {\n",
       "    var fig = this;\n",
       "\n",
       "    var canvas_div = $('<div/>');\n",
       "\n",
       "    canvas_div.attr('style', 'position: relative; clear: both; outline: 0');\n",
       "\n",
       "    function canvas_keyboard_event(event) {\n",
       "        return fig.key_event(event, event['data']);\n",
       "    }\n",
       "\n",
       "    canvas_div.keydown('key_press', canvas_keyboard_event);\n",
       "    canvas_div.keyup('key_release', canvas_keyboard_event);\n",
       "    this.canvas_div = canvas_div\n",
       "    this._canvas_extra_style(canvas_div)\n",
       "    this.root.append(canvas_div);\n",
       "\n",
       "    var canvas = $('<canvas/>');\n",
       "    canvas.addClass('mpl-canvas');\n",
       "    canvas.attr('style', \"left: 0; top: 0; z-index: 0; outline: 0\")\n",
       "\n",
       "    this.canvas = canvas[0];\n",
       "    this.context = canvas[0].getContext(\"2d\");\n",
       "\n",
       "    var backingStore = this.context.backingStorePixelRatio ||\n",
       "\tthis.context.webkitBackingStorePixelRatio ||\n",
       "\tthis.context.mozBackingStorePixelRatio ||\n",
       "\tthis.context.msBackingStorePixelRatio ||\n",
       "\tthis.context.oBackingStorePixelRatio ||\n",
       "\tthis.context.backingStorePixelRatio || 1;\n",
       "\n",
       "    mpl.ratio = (window.devicePixelRatio || 1) / backingStore;\n",
       "\n",
       "    var rubberband = $('<canvas/>');\n",
       "    rubberband.attr('style', \"position: absolute; left: 0; top: 0; z-index: 1;\")\n",
       "\n",
       "    var pass_mouse_events = true;\n",
       "\n",
       "    canvas_div.resizable({\n",
       "        start: function(event, ui) {\n",
       "            pass_mouse_events = false;\n",
       "        },\n",
       "        resize: function(event, ui) {\n",
       "            fig.request_resize(ui.size.width, ui.size.height);\n",
       "        },\n",
       "        stop: function(event, ui) {\n",
       "            pass_mouse_events = true;\n",
       "            fig.request_resize(ui.size.width, ui.size.height);\n",
       "        },\n",
       "    });\n",
       "\n",
       "    function mouse_event_fn(event) {\n",
       "        if (pass_mouse_events)\n",
       "            return fig.mouse_event(event, event['data']);\n",
       "    }\n",
       "\n",
       "    rubberband.mousedown('button_press', mouse_event_fn);\n",
       "    rubberband.mouseup('button_release', mouse_event_fn);\n",
       "    // Throttle sequential mouse events to 1 every 20ms.\n",
       "    rubberband.mousemove('motion_notify', mouse_event_fn);\n",
       "\n",
       "    rubberband.mouseenter('figure_enter', mouse_event_fn);\n",
       "    rubberband.mouseleave('figure_leave', mouse_event_fn);\n",
       "\n",
       "    canvas_div.on(\"wheel\", function (event) {\n",
       "        event = event.originalEvent;\n",
       "        event['data'] = 'scroll'\n",
       "        if (event.deltaY < 0) {\n",
       "            event.step = 1;\n",
       "        } else {\n",
       "            event.step = -1;\n",
       "        }\n",
       "        mouse_event_fn(event);\n",
       "    });\n",
       "\n",
       "    canvas_div.append(canvas);\n",
       "    canvas_div.append(rubberband);\n",
       "\n",
       "    this.rubberband = rubberband;\n",
       "    this.rubberband_canvas = rubberband[0];\n",
       "    this.rubberband_context = rubberband[0].getContext(\"2d\");\n",
       "    this.rubberband_context.strokeStyle = \"#000000\";\n",
       "\n",
       "    this._resize_canvas = function(width, height) {\n",
       "        // Keep the size of the canvas, canvas container, and rubber band\n",
       "        // canvas in synch.\n",
       "        canvas_div.css('width', width)\n",
       "        canvas_div.css('height', height)\n",
       "\n",
       "        canvas.attr('width', width * mpl.ratio);\n",
       "        canvas.attr('height', height * mpl.ratio);\n",
       "        canvas.attr('style', 'width: ' + width + 'px; height: ' + height + 'px;');\n",
       "\n",
       "        rubberband.attr('width', width);\n",
       "        rubberband.attr('height', height);\n",
       "    }\n",
       "\n",
       "    // Set the figure to an initial 600x600px, this will subsequently be updated\n",
       "    // upon first draw.\n",
       "    this._resize_canvas(600, 600);\n",
       "\n",
       "    // Disable right mouse context menu.\n",
       "    $(this.rubberband_canvas).bind(\"contextmenu\",function(e){\n",
       "        return false;\n",
       "    });\n",
       "\n",
       "    function set_focus () {\n",
       "        canvas.focus();\n",
       "        canvas_div.focus();\n",
       "    }\n",
       "\n",
       "    window.setTimeout(set_focus, 100);\n",
       "}\n",
       "\n",
       "mpl.figure.prototype._init_toolbar = function() {\n",
       "    var fig = this;\n",
       "\n",
       "    var nav_element = $('<div/>')\n",
       "    nav_element.attr('style', 'width: 100%');\n",
       "    this.root.append(nav_element);\n",
       "\n",
       "    // Define a callback function for later on.\n",
       "    function toolbar_event(event) {\n",
       "        return fig.toolbar_button_onclick(event['data']);\n",
       "    }\n",
       "    function toolbar_mouse_event(event) {\n",
       "        return fig.toolbar_button_onmouseover(event['data']);\n",
       "    }\n",
       "\n",
       "    for(var toolbar_ind in mpl.toolbar_items) {\n",
       "        var name = mpl.toolbar_items[toolbar_ind][0];\n",
       "        var tooltip = mpl.toolbar_items[toolbar_ind][1];\n",
       "        var image = mpl.toolbar_items[toolbar_ind][2];\n",
       "        var method_name = mpl.toolbar_items[toolbar_ind][3];\n",
       "\n",
       "        if (!name) {\n",
       "            // put a spacer in here.\n",
       "            continue;\n",
       "        }\n",
       "        var button = $('<button/>');\n",
       "        button.addClass('ui-button ui-widget ui-state-default ui-corner-all ' +\n",
       "                        'ui-button-icon-only');\n",
       "        button.attr('role', 'button');\n",
       "        button.attr('aria-disabled', 'false');\n",
       "        button.click(method_name, toolbar_event);\n",
       "        button.mouseover(tooltip, toolbar_mouse_event);\n",
       "\n",
       "        var icon_img = $('<span/>');\n",
       "        icon_img.addClass('ui-button-icon-primary ui-icon');\n",
       "        icon_img.addClass(image);\n",
       "        icon_img.addClass('ui-corner-all');\n",
       "\n",
       "        var tooltip_span = $('<span/>');\n",
       "        tooltip_span.addClass('ui-button-text');\n",
       "        tooltip_span.html(tooltip);\n",
       "\n",
       "        button.append(icon_img);\n",
       "        button.append(tooltip_span);\n",
       "\n",
       "        nav_element.append(button);\n",
       "    }\n",
       "\n",
       "    var fmt_picker_span = $('<span/>');\n",
       "\n",
       "    var fmt_picker = $('<select/>');\n",
       "    fmt_picker.addClass('mpl-toolbar-option ui-widget ui-widget-content');\n",
       "    fmt_picker_span.append(fmt_picker);\n",
       "    nav_element.append(fmt_picker_span);\n",
       "    this.format_dropdown = fmt_picker[0];\n",
       "\n",
       "    for (var ind in mpl.extensions) {\n",
       "        var fmt = mpl.extensions[ind];\n",
       "        var option = $(\n",
       "            '<option/>', {selected: fmt === mpl.default_extension}).html(fmt);\n",
       "        fmt_picker.append(option)\n",
       "    }\n",
       "\n",
       "    // Add hover states to the ui-buttons\n",
       "    $( \".ui-button\" ).hover(\n",
       "        function() { $(this).addClass(\"ui-state-hover\");},\n",
       "        function() { $(this).removeClass(\"ui-state-hover\");}\n",
       "    );\n",
       "\n",
       "    var status_bar = $('<span class=\"mpl-message\"/>');\n",
       "    nav_element.append(status_bar);\n",
       "    this.message = status_bar[0];\n",
       "}\n",
       "\n",
       "mpl.figure.prototype.request_resize = function(x_pixels, y_pixels) {\n",
       "    // Request matplotlib to resize the figure. Matplotlib will then trigger a resize in the client,\n",
       "    // which will in turn request a refresh of the image.\n",
       "    this.send_message('resize', {'width': x_pixels, 'height': y_pixels});\n",
       "}\n",
       "\n",
       "mpl.figure.prototype.send_message = function(type, properties) {\n",
       "    properties['type'] = type;\n",
       "    properties['figure_id'] = this.id;\n",
       "    this.ws.send(JSON.stringify(properties));\n",
       "}\n",
       "\n",
       "mpl.figure.prototype.send_draw_message = function() {\n",
       "    if (!this.waiting) {\n",
       "        this.waiting = true;\n",
       "        this.ws.send(JSON.stringify({type: \"draw\", figure_id: this.id}));\n",
       "    }\n",
       "}\n",
       "\n",
       "\n",
       "mpl.figure.prototype.handle_save = function(fig, msg) {\n",
       "    var format_dropdown = fig.format_dropdown;\n",
       "    var format = format_dropdown.options[format_dropdown.selectedIndex].value;\n",
       "    fig.ondownload(fig, format);\n",
       "}\n",
       "\n",
       "\n",
       "mpl.figure.prototype.handle_resize = function(fig, msg) {\n",
       "    var size = msg['size'];\n",
       "    if (size[0] != fig.canvas.width || size[1] != fig.canvas.height) {\n",
       "        fig._resize_canvas(size[0], size[1]);\n",
       "        fig.send_message(\"refresh\", {});\n",
       "    };\n",
       "}\n",
       "\n",
       "mpl.figure.prototype.handle_rubberband = function(fig, msg) {\n",
       "    var x0 = msg['x0'] / mpl.ratio;\n",
       "    var y0 = (fig.canvas.height - msg['y0']) / mpl.ratio;\n",
       "    var x1 = msg['x1'] / mpl.ratio;\n",
       "    var y1 = (fig.canvas.height - msg['y1']) / mpl.ratio;\n",
       "    x0 = Math.floor(x0) + 0.5;\n",
       "    y0 = Math.floor(y0) + 0.5;\n",
       "    x1 = Math.floor(x1) + 0.5;\n",
       "    y1 = Math.floor(y1) + 0.5;\n",
       "    var min_x = Math.min(x0, x1);\n",
       "    var min_y = Math.min(y0, y1);\n",
       "    var width = Math.abs(x1 - x0);\n",
       "    var height = Math.abs(y1 - y0);\n",
       "\n",
       "    fig.rubberband_context.clearRect(\n",
       "        0, 0, fig.canvas.width, fig.canvas.height);\n",
       "\n",
       "    fig.rubberband_context.strokeRect(min_x, min_y, width, height);\n",
       "}\n",
       "\n",
       "mpl.figure.prototype.handle_figure_label = function(fig, msg) {\n",
       "    // Updates the figure title.\n",
       "    fig.header.textContent = msg['label'];\n",
       "}\n",
       "\n",
       "mpl.figure.prototype.handle_cursor = function(fig, msg) {\n",
       "    var cursor = msg['cursor'];\n",
       "    switch(cursor)\n",
       "    {\n",
       "    case 0:\n",
       "        cursor = 'pointer';\n",
       "        break;\n",
       "    case 1:\n",
       "        cursor = 'default';\n",
       "        break;\n",
       "    case 2:\n",
       "        cursor = 'crosshair';\n",
       "        break;\n",
       "    case 3:\n",
       "        cursor = 'move';\n",
       "        break;\n",
       "    }\n",
       "    fig.rubberband_canvas.style.cursor = cursor;\n",
       "}\n",
       "\n",
       "mpl.figure.prototype.handle_message = function(fig, msg) {\n",
       "    fig.message.textContent = msg['message'];\n",
       "}\n",
       "\n",
       "mpl.figure.prototype.handle_draw = function(fig, msg) {\n",
       "    // Request the server to send over a new figure.\n",
       "    fig.send_draw_message();\n",
       "}\n",
       "\n",
       "mpl.figure.prototype.handle_image_mode = function(fig, msg) {\n",
       "    fig.image_mode = msg['mode'];\n",
       "}\n",
       "\n",
       "mpl.figure.prototype.updated_canvas_event = function() {\n",
       "    // Called whenever the canvas gets updated.\n",
       "    this.send_message(\"ack\", {});\n",
       "}\n",
       "\n",
       "// A function to construct a web socket function for onmessage handling.\n",
       "// Called in the figure constructor.\n",
       "mpl.figure.prototype._make_on_message_function = function(fig) {\n",
       "    return function socket_on_message(evt) {\n",
       "        if (evt.data instanceof Blob) {\n",
       "            /* FIXME: We get \"Resource interpreted as Image but\n",
       "             * transferred with MIME type text/plain:\" errors on\n",
       "             * Chrome.  But how to set the MIME type?  It doesn't seem\n",
       "             * to be part of the websocket stream */\n",
       "            evt.data.type = \"image/png\";\n",
       "\n",
       "            /* Free the memory for the previous frames */\n",
       "            if (fig.imageObj.src) {\n",
       "                (window.URL || window.webkitURL).revokeObjectURL(\n",
       "                    fig.imageObj.src);\n",
       "            }\n",
       "\n",
       "            fig.imageObj.src = (window.URL || window.webkitURL).createObjectURL(\n",
       "                evt.data);\n",
       "            fig.updated_canvas_event();\n",
       "            fig.waiting = false;\n",
       "            return;\n",
       "        }\n",
       "        else if (typeof evt.data === 'string' && evt.data.slice(0, 21) == \"data:image/png;base64\") {\n",
       "            fig.imageObj.src = evt.data;\n",
       "            fig.updated_canvas_event();\n",
       "            fig.waiting = false;\n",
       "            return;\n",
       "        }\n",
       "\n",
       "        var msg = JSON.parse(evt.data);\n",
       "        var msg_type = msg['type'];\n",
       "\n",
       "        // Call the  \"handle_{type}\" callback, which takes\n",
       "        // the figure and JSON message as its only arguments.\n",
       "        try {\n",
       "            var callback = fig[\"handle_\" + msg_type];\n",
       "        } catch (e) {\n",
       "            console.log(\"No handler for the '\" + msg_type + \"' message type: \", msg);\n",
       "            return;\n",
       "        }\n",
       "\n",
       "        if (callback) {\n",
       "            try {\n",
       "                // console.log(\"Handling '\" + msg_type + \"' message: \", msg);\n",
       "                callback(fig, msg);\n",
       "            } catch (e) {\n",
       "                console.log(\"Exception inside the 'handler_\" + msg_type + \"' callback:\", e, e.stack, msg);\n",
       "            }\n",
       "        }\n",
       "    };\n",
       "}\n",
       "\n",
       "// from http://stackoverflow.com/questions/1114465/getting-mouse-location-in-canvas\n",
       "mpl.findpos = function(e) {\n",
       "    //this section is from http://www.quirksmode.org/js/events_properties.html\n",
       "    var targ;\n",
       "    if (!e)\n",
       "        e = window.event;\n",
       "    if (e.target)\n",
       "        targ = e.target;\n",
       "    else if (e.srcElement)\n",
       "        targ = e.srcElement;\n",
       "    if (targ.nodeType == 3) // defeat Safari bug\n",
       "        targ = targ.parentNode;\n",
       "\n",
       "    // jQuery normalizes the pageX and pageY\n",
       "    // pageX,Y are the mouse positions relative to the document\n",
       "    // offset() returns the position of the element relative to the document\n",
       "    var x = e.pageX - $(targ).offset().left;\n",
       "    var y = e.pageY - $(targ).offset().top;\n",
       "\n",
       "    return {\"x\": x, \"y\": y};\n",
       "};\n",
       "\n",
       "/*\n",
       " * return a copy of an object with only non-object keys\n",
       " * we need this to avoid circular references\n",
       " * http://stackoverflow.com/a/24161582/3208463\n",
       " */\n",
       "function simpleKeys (original) {\n",
       "  return Object.keys(original).reduce(function (obj, key) {\n",
       "    if (typeof original[key] !== 'object')\n",
       "        obj[key] = original[key]\n",
       "    return obj;\n",
       "  }, {});\n",
       "}\n",
       "\n",
       "mpl.figure.prototype.mouse_event = function(event, name) {\n",
       "    var canvas_pos = mpl.findpos(event)\n",
       "\n",
       "    if (name === 'button_press')\n",
       "    {\n",
       "        this.canvas.focus();\n",
       "        this.canvas_div.focus();\n",
       "    }\n",
       "\n",
       "    var x = canvas_pos.x * mpl.ratio;\n",
       "    var y = canvas_pos.y * mpl.ratio;\n",
       "\n",
       "    this.send_message(name, {x: x, y: y, button: event.button,\n",
       "                             step: event.step,\n",
       "                             guiEvent: simpleKeys(event)});\n",
       "\n",
       "    /* This prevents the web browser from automatically changing to\n",
       "     * the text insertion cursor when the button is pressed.  We want\n",
       "     * to control all of the cursor setting manually through the\n",
       "     * 'cursor' event from matplotlib */\n",
       "    event.preventDefault();\n",
       "    return false;\n",
       "}\n",
       "\n",
       "mpl.figure.prototype._key_event_extra = function(event, name) {\n",
       "    // Handle any extra behaviour associated with a key event\n",
       "}\n",
       "\n",
       "mpl.figure.prototype.key_event = function(event, name) {\n",
       "\n",
       "    // Prevent repeat events\n",
       "    if (name == 'key_press')\n",
       "    {\n",
       "        if (event.which === this._key)\n",
       "            return;\n",
       "        else\n",
       "            this._key = event.which;\n",
       "    }\n",
       "    if (name == 'key_release')\n",
       "        this._key = null;\n",
       "\n",
       "    var value = '';\n",
       "    if (event.ctrlKey && event.which != 17)\n",
       "        value += \"ctrl+\";\n",
       "    if (event.altKey && event.which != 18)\n",
       "        value += \"alt+\";\n",
       "    if (event.shiftKey && event.which != 16)\n",
       "        value += \"shift+\";\n",
       "\n",
       "    value += 'k';\n",
       "    value += event.which.toString();\n",
       "\n",
       "    this._key_event_extra(event, name);\n",
       "\n",
       "    this.send_message(name, {key: value,\n",
       "                             guiEvent: simpleKeys(event)});\n",
       "    return false;\n",
       "}\n",
       "\n",
       "mpl.figure.prototype.toolbar_button_onclick = function(name) {\n",
       "    if (name == 'download') {\n",
       "        this.handle_save(this, null);\n",
       "    } else {\n",
       "        this.send_message(\"toolbar_button\", {name: name});\n",
       "    }\n",
       "};\n",
       "\n",
       "mpl.figure.prototype.toolbar_button_onmouseover = function(tooltip) {\n",
       "    this.message.textContent = tooltip;\n",
       "};\n",
       "mpl.toolbar_items = [[\"Home\", \"Reset original view\", \"fa fa-home icon-home\", \"home\"], [\"Back\", \"Back to previous view\", \"fa fa-arrow-left icon-arrow-left\", \"back\"], [\"Forward\", \"Forward to next view\", \"fa fa-arrow-right icon-arrow-right\", \"forward\"], [\"\", \"\", \"\", \"\"], [\"Pan\", \"Pan axes with left mouse, zoom with right\", \"fa fa-arrows icon-move\", \"pan\"], [\"Zoom\", \"Zoom to rectangle\", \"fa fa-square-o icon-check-empty\", \"zoom\"], [\"\", \"\", \"\", \"\"], [\"Download\", \"Download plot\", \"fa fa-floppy-o icon-save\", \"download\"]];\n",
       "\n",
       "mpl.extensions = [\"eps\", \"jpeg\", \"pdf\", \"png\", \"ps\", \"raw\", \"svg\", \"tif\"];\n",
       "\n",
       "mpl.default_extension = \"png\";var comm_websocket_adapter = function(comm) {\n",
       "    // Create a \"websocket\"-like object which calls the given IPython comm\n",
       "    // object with the appropriate methods. Currently this is a non binary\n",
       "    // socket, so there is still some room for performance tuning.\n",
       "    var ws = {};\n",
       "\n",
       "    ws.close = function() {\n",
       "        comm.close()\n",
       "    };\n",
       "    ws.send = function(m) {\n",
       "        //console.log('sending', m);\n",
       "        comm.send(m);\n",
       "    };\n",
       "    // Register the callback with on_msg.\n",
       "    comm.on_msg(function(msg) {\n",
       "        //console.log('receiving', msg['content']['data'], msg);\n",
       "        // Pass the mpl event to the overridden (by mpl) onmessage function.\n",
       "        ws.onmessage(msg['content']['data'])\n",
       "    });\n",
       "    return ws;\n",
       "}\n",
       "\n",
       "mpl.mpl_figure_comm = function(comm, msg) {\n",
       "    // This is the function which gets called when the mpl process\n",
       "    // starts-up an IPython Comm through the \"matplotlib\" channel.\n",
       "\n",
       "    var id = msg.content.data.id;\n",
       "    // Get hold of the div created by the display call when the Comm\n",
       "    // socket was opened in Python.\n",
       "    var element = $(\"#\" + id);\n",
       "    var ws_proxy = comm_websocket_adapter(comm)\n",
       "\n",
       "    function ondownload(figure, format) {\n",
       "        window.open(figure.imageObj.src);\n",
       "    }\n",
       "\n",
       "    var fig = new mpl.figure(id, ws_proxy,\n",
       "                           ondownload,\n",
       "                           element.get(0));\n",
       "\n",
       "    // Call onopen now - mpl needs it, as it is assuming we've passed it a real\n",
       "    // web socket which is closed, not our websocket->open comm proxy.\n",
       "    ws_proxy.onopen();\n",
       "\n",
       "    fig.parent_element = element.get(0);\n",
       "    fig.cell_info = mpl.find_output_cell(\"<div id='\" + id + \"'></div>\");\n",
       "    if (!fig.cell_info) {\n",
       "        console.error(\"Failed to find cell for figure\", id, fig);\n",
       "        return;\n",
       "    }\n",
       "\n",
       "    var output_index = fig.cell_info[2]\n",
       "    var cell = fig.cell_info[0];\n",
       "\n",
       "};\n",
       "\n",
       "mpl.figure.prototype.handle_close = function(fig, msg) {\n",
       "    var width = fig.canvas.width/mpl.ratio\n",
       "    fig.root.unbind('remove')\n",
       "\n",
       "    // Update the output cell to use the data from the current canvas.\n",
       "    fig.push_to_output();\n",
       "    var dataURL = fig.canvas.toDataURL();\n",
       "    // Re-enable the keyboard manager in IPython - without this line, in FF,\n",
       "    // the notebook keyboard shortcuts fail.\n",
       "    IPython.keyboard_manager.enable()\n",
       "    $(fig.parent_element).html('<img src=\"' + dataURL + '\" width=\"' + width + '\">');\n",
       "    fig.close_ws(fig, msg);\n",
       "}\n",
       "\n",
       "mpl.figure.prototype.close_ws = function(fig, msg){\n",
       "    fig.send_message('closing', msg);\n",
       "    // fig.ws.close()\n",
       "}\n",
       "\n",
       "mpl.figure.prototype.push_to_output = function(remove_interactive) {\n",
       "    // Turn the data on the canvas into data in the output cell.\n",
       "    var width = this.canvas.width/mpl.ratio\n",
       "    var dataURL = this.canvas.toDataURL();\n",
       "    this.cell_info[1]['text/html'] = '<img src=\"' + dataURL + '\" width=\"' + width + '\">';\n",
       "}\n",
       "\n",
       "mpl.figure.prototype.updated_canvas_event = function() {\n",
       "    // Tell IPython that the notebook contents must change.\n",
       "    IPython.notebook.set_dirty(true);\n",
       "    this.send_message(\"ack\", {});\n",
       "    var fig = this;\n",
       "    // Wait a second, then push the new image to the DOM so\n",
       "    // that it is saved nicely (might be nice to debounce this).\n",
       "    setTimeout(function () { fig.push_to_output() }, 1000);\n",
       "}\n",
       "\n",
       "mpl.figure.prototype._init_toolbar = function() {\n",
       "    var fig = this;\n",
       "\n",
       "    var nav_element = $('<div/>')\n",
       "    nav_element.attr('style', 'width: 100%');\n",
       "    this.root.append(nav_element);\n",
       "\n",
       "    // Define a callback function for later on.\n",
       "    function toolbar_event(event) {\n",
       "        return fig.toolbar_button_onclick(event['data']);\n",
       "    }\n",
       "    function toolbar_mouse_event(event) {\n",
       "        return fig.toolbar_button_onmouseover(event['data']);\n",
       "    }\n",
       "\n",
       "    for(var toolbar_ind in mpl.toolbar_items){\n",
       "        var name = mpl.toolbar_items[toolbar_ind][0];\n",
       "        var tooltip = mpl.toolbar_items[toolbar_ind][1];\n",
       "        var image = mpl.toolbar_items[toolbar_ind][2];\n",
       "        var method_name = mpl.toolbar_items[toolbar_ind][3];\n",
       "\n",
       "        if (!name) { continue; };\n",
       "\n",
       "        var button = $('<button class=\"btn btn-default\" href=\"#\" title=\"' + name + '\"><i class=\"fa ' + image + ' fa-lg\"></i></button>');\n",
       "        button.click(method_name, toolbar_event);\n",
       "        button.mouseover(tooltip, toolbar_mouse_event);\n",
       "        nav_element.append(button);\n",
       "    }\n",
       "\n",
       "    // Add the status bar.\n",
       "    var status_bar = $('<span class=\"mpl-message\" style=\"text-align:right; float: right;\"/>');\n",
       "    nav_element.append(status_bar);\n",
       "    this.message = status_bar[0];\n",
       "\n",
       "    // Add the close button to the window.\n",
       "    var buttongrp = $('<div class=\"btn-group inline pull-right\"></div>');\n",
       "    var button = $('<button class=\"btn btn-mini btn-primary\" href=\"#\" title=\"Stop Interaction\"><i class=\"fa fa-power-off icon-remove icon-large\"></i></button>');\n",
       "    button.click(function (evt) { fig.handle_close(fig, {}); } );\n",
       "    button.mouseover('Stop Interaction', toolbar_mouse_event);\n",
       "    buttongrp.append(button);\n",
       "    var titlebar = this.root.find($('.ui-dialog-titlebar'));\n",
       "    titlebar.prepend(buttongrp);\n",
       "}\n",
       "\n",
       "mpl.figure.prototype._root_extra_style = function(el){\n",
       "    var fig = this\n",
       "    el.on(\"remove\", function(){\n",
       "\tfig.close_ws(fig, {});\n",
       "    });\n",
       "}\n",
       "\n",
       "mpl.figure.prototype._canvas_extra_style = function(el){\n",
       "    // this is important to make the div 'focusable\n",
       "    el.attr('tabindex', 0)\n",
       "    // reach out to IPython and tell the keyboard manager to turn it's self\n",
       "    // off when our div gets focus\n",
       "\n",
       "    // location in version 3\n",
       "    if (IPython.notebook.keyboard_manager) {\n",
       "        IPython.notebook.keyboard_manager.register_events(el);\n",
       "    }\n",
       "    else {\n",
       "        // location in version 2\n",
       "        IPython.keyboard_manager.register_events(el);\n",
       "    }\n",
       "\n",
       "}\n",
       "\n",
       "mpl.figure.prototype._key_event_extra = function(event, name) {\n",
       "    var manager = IPython.notebook.keyboard_manager;\n",
       "    if (!manager)\n",
       "        manager = IPython.keyboard_manager;\n",
       "\n",
       "    // Check for shift+enter\n",
       "    if (event.shiftKey && event.which == 13) {\n",
       "        this.canvas_div.blur();\n",
       "        event.shiftKey = false;\n",
       "        // Send a \"J\" for go to next cell\n",
       "        event.which = 74;\n",
       "        event.keyCode = 74;\n",
       "        manager.command_mode();\n",
       "        manager.handle_keydown(event);\n",
       "    }\n",
       "}\n",
       "\n",
       "mpl.figure.prototype.handle_save = function(fig, msg) {\n",
       "    fig.ondownload(fig, null);\n",
       "}\n",
       "\n",
       "\n",
       "mpl.find_output_cell = function(html_output) {\n",
       "    // Return the cell and output element which can be found *uniquely* in the notebook.\n",
       "    // Note - this is a bit hacky, but it is done because the \"notebook_saving.Notebook\"\n",
       "    // IPython event is triggered only after the cells have been serialised, which for\n",
       "    // our purposes (turning an active figure into a static one), is too late.\n",
       "    var cells = IPython.notebook.get_cells();\n",
       "    var ncells = cells.length;\n",
       "    for (var i=0; i<ncells; i++) {\n",
       "        var cell = cells[i];\n",
       "        if (cell.cell_type === 'code'){\n",
       "            for (var j=0; j<cell.output_area.outputs.length; j++) {\n",
       "                var data = cell.output_area.outputs[j];\n",
       "                if (data.data) {\n",
       "                    // IPython >= 3 moved mimebundle to data attribute of output\n",
       "                    data = data.data;\n",
       "                }\n",
       "                if (data['text/html'] == html_output) {\n",
       "                    return [cell, data, j];\n",
       "                }\n",
       "            }\n",
       "        }\n",
       "    }\n",
       "}\n",
       "\n",
       "// Register the function which deals with the matplotlib target/channel.\n",
       "// The kernel may be null if the page has been refreshed.\n",
       "if (IPython.notebook.kernel != null) {\n",
       "    IPython.notebook.kernel.comm_manager.register_target('matplotlib', mpl.mpl_figure_comm);\n",
       "}\n"
      ],
      "text/plain": [
       "<IPython.core.display.Javascript object>"
      ]
     },
     "metadata": {},
     "output_type": "display_data"
    },
    {
     "data": {
      "text/html": [
       "<img src=\"data:image/png;base64,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\" width=\"640\">"
      ],
      "text/plain": [
       "<IPython.core.display.HTML object>"
      ]
     },
     "metadata": {},
     "output_type": "display_data"
    },
    {
     "data": {
      "text/plain": [
       "Text(0.5, 1.0, 'Daily maximum temperature \\n on 1970-01-18 12:48:14.400000+00:00')"
      ]
     },
     "execution_count": 56,
     "metadata": {},
     "output_type": "execute_result"
    }
   ],
   "source": [
    "# visualize a raster\n",
    "%matplotlib notebook\n",
    "\n",
    "# reference raster by name/key\n",
    "layerNumber = 1\n",
    "layerKey    = list(queryReload.metadata.keys())[layerNumber]\n",
    "\n",
    "# print bounding box coordinate\n",
    "# ATTENTION: does not necessarily need to 100% coincide with box queried!\n",
    "print(\n",
    "    \"\"\"\n",
    "    The raster bounding box for '{}' is:\n",
    "    [<lon min>, <lon max>, <lat min>, <lat max>]: {}\n",
    "    \"\"\".format(\n",
    "        layerKey,\n",
    "        [\n",
    "            queryReload.metadata[layerKey]['details']['boundingBox']['minLongitude'],\n",
    "            queryReload.metadata[layerKey]['details']['boundingBox']['maxLongitude'],\n",
    "            queryReload.metadata[layerKey]['details']['boundingBox']['minLatitude'],\n",
    "            queryReload.metadata[layerKey]['details']['boundingBox']['maxLatitude'],\n",
    "        ]\n",
    "    )\n",
    ")\n",
    "\n",
    "# plot raster\n",
    "pyplot.imshow(\n",
    "    queryReload.data[layerKey],\n",
    "    extent=[\n",
    "        queryReload.metadata[layerKey]['details']['boundingBox']['minLongitude'],\n",
    "        queryReload.metadata[layerKey]['details']['boundingBox']['maxLongitude'],\n",
    "        queryReload.metadata[layerKey]['details']['boundingBox']['minLatitude'],\n",
    "        queryReload.metadata[layerKey]['details']['boundingBox']['maxLatitude'],\n",
    "    ],\n",
    ")\n",
    "\n",
    "# label plot\n",
    "pyplot.ylabel('latitude')\n",
    "pyplot.xlabel('longitude')\n",
    "pyplot.title(\n",
    "    '{} \\n on {}'.format(\n",
    "        queryReload.metadata[layerKey]['datalayerName'],\n",
    "        queryReload.metadata[layerKey]['timestamp'],\n",
    "    )\n",
    ")"
   ]
  },
  {
   "cell_type": "markdown",
   "metadata": {},
   "source": [
    "## ... or using an existing query object "
   ]
  },
  {
   "cell_type": "markdown",
   "metadata": {},
   "source": [
    "*note*: The IBM PAIRS query JSON is used to match with the cache, taking the last of such queries downloaded if multiple identical queries have been run before."
   ]
  },
  {
   "cell_type": "code",
   "execution_count": 71,
   "metadata": {
    "ExecuteTime": {
     "end_time": "2019-07-30T20:22:08.442635Z",
     "start_time": "2019-07-30T20:22:08.237168Z"
    }
   },
   "outputs": [
    {
     "name": "stderr",
     "output_type": "stream",
     "text": [
      "INFO - 2019-07-30 16:22:08,239: \"PAIRS query JSON initialized.\" [__init__]\n",
      "WARNING - 2019-07-30 16:22:08,241: \"Fake submit to PAIRS in order to use (latest) locally cached data.\" [submit]\n",
      "INFO - 2019-07-30 16:22:08,243: \"Alright, using cache of PAIRS query with ID: '1564502400_15685945'\" [submit]\n",
      "INFO - 2019-07-30 16:22:08,247: \"Here we go, PAIRS query result successfully downloaded as '1564502400_15685945_ea5b868cea3c07847595515e82494845.zip'.\" [download]\n",
      "INFO - 2019-07-30 16:22:08,250: \"Data acknowledgement successfully loaded, print with `self.print_data_acknowledgement()`\" [read_data_acknowledgement]\n",
      "INFO - 2019-07-30 16:22:08,251: \"PAIRS meta data loaded from 'output.info'.\" [list_layers]\n"
     ]
    },
    {
     "data": {
      "text/plain": [
       "{'Daily US weather (PRISM)-Daily maximum temperature-01_01_2018T12_00_00': array([[nan, nan, nan, ..., nan, nan, nan],\n",
       "        [nan, nan, nan, ..., nan, nan, nan],\n",
       "        [nan, nan, nan, ..., nan, nan, nan],\n",
       "        ...,\n",
       "        [nan, nan, nan, ..., nan, nan, nan],\n",
       "        [nan, nan, nan, ..., nan, nan, nan],\n",
       "        [nan, nan, nan, ..., nan, nan, nan]]),\n",
       " 'Daily US weather (PRISM)-Daily maximum temperature-01_02_2018T12_00_00': array([[nan, nan, nan, ..., nan, nan, nan],\n",
       "        [nan, nan, nan, ..., nan, nan, nan],\n",
       "        [nan, nan, nan, ..., nan, nan, nan],\n",
       "        ...,\n",
       "        [nan, nan, nan, ..., nan, nan, nan],\n",
       "        [nan, nan, nan, ..., nan, nan, nan],\n",
       "        [nan, nan, nan, ..., nan, nan, nan]]),\n",
       " 'Daily US weather (PRISM)-Daily precipitation-01_01_2018T12_00_00': array([[nan, nan, nan, ..., nan, nan, nan],\n",
       "        [nan, nan, nan, ..., nan, nan, nan],\n",
       "        [nan, nan, nan, ..., nan, nan, nan],\n",
       "        ...,\n",
       "        [nan, nan, nan, ..., nan, nan, nan],\n",
       "        [nan, nan, nan, ..., nan, nan, nan],\n",
       "        [nan, nan, nan, ..., nan, nan, nan]]),\n",
       " 'Daily US weather (PRISM)-Daily precipitation-01_02_2018T12_00_00': array([[nan, nan, nan, ..., nan, nan, nan],\n",
       "        [nan, nan, nan, ..., nan, nan, nan],\n",
       "        [nan, nan, nan, ..., nan, nan, nan],\n",
       "        ...,\n",
       "        [nan, nan, nan, ..., nan, nan, nan],\n",
       "        [nan, nan, nan, ..., nan, nan, nan],\n",
       "        [nan, nan, nan, ..., nan, nan, nan]])}"
      ]
     },
     "execution_count": 71,
     "metadata": {},
     "output_type": "execute_result"
    }
   ],
   "source": [
    "# create PAIRS query instance\n",
    "rasterQuery2 = paw.PAIRSQuery(\n",
    "    rasterQueryDef,\n",
    "    pairsHost           = 'https://'+PAIRS_SERVER,\n",
    "    auth                = PAIRS_CREDENTIALS,\n",
    "    baseURI             = BASE_URI,\n",
    "    overwriteExisting   = False\n",
    ")\n",
    "# submit and download modified query\n",
    "rasterQuery2.submit()\n",
    "rasterQuery2.poll_till_finished(printStatus=True)\n",
    "rasterQuery2.download()\n",
    "rasterQuery2.create_layers()\n",
    "rasterQuery2.data"
   ]
  },
  {
   "cell_type": "markdown",
   "metadata": {},
   "source": [
    "**BOLD NOTE**: The boundary is most likely having no-data values, thus the `nan`s in the partially printed array.\n",
    "\n",
    "Plot it to as before in order to see the data is there, or compute an aggregate value, e.g.:"
   ]
  },
  {
   "cell_type": "code",
   "execution_count": 72,
   "metadata": {
    "ExecuteTime": {
     "end_time": "2019-07-30T20:22:08.532592Z",
     "start_time": "2019-07-30T20:22:08.475203Z"
    }
   },
   "outputs": [
    {
     "data": {
      "text/plain": [
       "[269.9748996760276, 273.104030441349, 0.08194435590053802, 0.23667956114857142]"
      ]
     },
     "execution_count": 72,
     "metadata": {},
     "output_type": "execute_result"
    }
   ],
   "source": [
    "[\n",
    "    numpy.nanmean(data)\n",
    "    for data in rasterQuery2.data.values()\n",
    "]"
   ]
  },
  {
   "cell_type": "markdown",
   "metadata": {},
   "source": [
    "# Raster query revised: US Aggregation by State"
   ]
  },
  {
   "cell_type": "code",
   "execution_count": 73,
   "metadata": {
    "ExecuteTime": {
     "end_time": "2019-07-30T20:22:24.524294Z",
     "start_time": "2019-07-30T20:22:24.506616Z"
    }
   },
   "outputs": [],
   "source": [
    "rasterAggQueryDef = {\n",
    "    \"layers\" : [\n",
    "        {\"id\" : 92}, # maximum temperature\n",
    "    ],\n",
    "    \"spatial\" : {\n",
    "        \"type\" : \"square\",\n",
    "        \"coordinates\" : [23, -125, 50, -67],\n",
    "        \"aggregation\": {\n",
    "            \"aoi\": [\n",
    "                i for i in range(121, 175) # ConUS State PAIRS polygons\n",
    "            ]\n",
    "        }\n",
    "    },\n",
    "    \"temporal\" : {\n",
    "        \"intervals\": [\n",
    "            {\n",
    "                \"snapshot\": \"2018-01-01T00:00:00Z\",\n",
    "            }\n",
    "        ]\n",
    "    }\n",
    "}"
   ]
  },
  {
   "cell_type": "code",
   "execution_count": 74,
   "metadata": {
    "ExecuteTime": {
     "end_time": "2019-07-30T20:23:06.994304Z",
     "start_time": "2019-07-30T20:22:26.105352Z"
    }
   },
   "outputs": [
    {
     "name": "stderr",
     "output_type": "stream",
     "text": [
      "INFO - 2019-07-30 16:22:26,107: \"PAIRS query JSON initialized.\" [__init__]\n",
      "INFO - 2019-07-30 16:22:26,188: \"Query successfully submitted, reference ID: 1564502400_15746173\" [submit]\n",
      "INFO - 2019-07-30 16:22:26,388: \"Query status is 'Queued'.\" [poll_till_finished]\n",
      "INFO - 2019-07-30 16:22:36,484: \"Query status is 'Running'.\" [poll_till_finished]\n",
      "INFO - 2019-07-30 16:22:46,561: \"Query status is 'Running'.\" [poll_till_finished]\n",
      "INFO - 2019-07-30 16:22:56,661: \"Query status is 'Writing'.\" [poll_till_finished]\n",
      "INFO - 2019-07-30 16:23:06,756: \"Query status is 'Succeeded'.\" [poll_till_finished]\n",
      "INFO - 2019-07-30 16:23:06,969: \"Here we go, PAIRS query result successfully downloaded as '1564502400_15746173_a4f35a56413fa13d8342cf28602e96cd.zip'.\" [download]\n",
      "INFO - 2019-07-30 16:23:06,972: \"Data acknowledgement successfully loaded, print with `self.print_data_acknowledgement()`\" [read_data_acknowledgement]\n",
      "INFO - 2019-07-30 16:23:06,974: \"PAIRS meta data loaded from 'output.info'.\" [list_layers]\n",
      "INFO - 2019-07-30 16:23:06,978: \"Identified spatial aggregation data.\" [create_layer]\n"
     ]
    }
   ],
   "source": [
    "# create PAIRS query instance\n",
    "rasterAggQuery = paw.PAIRSQuery(\n",
    "    rasterAggQueryDef,\n",
    "    pairsHost   = 'https://'+PAIRS_SERVER,\n",
    "    auth        = PAIRS_CREDENTIALS,\n",
    "    baseURI     = BASE_URI,\n",
    ")\n",
    "# submit and download modified query\n",
    "rasterAggQuery.submit()\n",
    "rasterAggQuery.poll_till_finished(printStatus=True)\n",
    "rasterAggQuery.download()\n",
    "rasterAggQuery.create_layers()"
   ]
  },
  {
   "cell_type": "code",
   "execution_count": 75,
   "metadata": {
    "ExecuteTime": {
     "end_time": "2019-07-30T20:23:07.068440Z",
     "start_time": "2019-07-30T20:23:07.059777Z"
    }
   },
   "outputs": [
    {
     "data": {
      "text/plain": [
       "{'Daily US weather (PRISM)-Daily maximum temperature-12_31_2017T12_00_00': {'datalayerId': '92',\n",
       "  'datalayerName': 'Daily maximum temperature',\n",
       "  'details': {'boundingBox': {'maxLatitude': 50.509184,\n",
       "    'maxLongitude': -66.753792,\n",
       "    'minLatitude': 22.197632,\n",
       "    'minLongitude': -125.474048},\n",
       "   'pixelDimensions': {'numberPixelsLatitude': 864,\n",
       "    'numberPixelsLongitude': 1792,\n",
       "    'pixelSizeDegreeLatitude': 0.032768,\n",
       "    'pixelSizeDegreeLongitude': 0.032768},\n",
       "   'pixelNoDataVal': -9999.0,\n",
       "   'pixelType': 'fl',\n",
       "   'rasterStatistics': {'pixelCount': 783848,\n",
       "    'pixelMax': 299.301605,\n",
       "    'pixelMean': 269.729418,\n",
       "    'pixelMin': 244.899887,\n",
       "    'pixelStandardDeviation': 12.679512},\n",
       "   'spatialRef': 'EPSG:4326'},\n",
       "  'layerType': 'vector',\n",
       "  'spatialAggregation': 'fullStat',\n",
       "  'timestamp': datetime.datetime(2017, 12, 31, 12, 0, tzinfo=<UTC>)}}"
      ]
     },
     "execution_count": 75,
     "metadata": {},
     "output_type": "execute_result"
    }
   ],
   "source": [
    "# show available meta data\n",
    "rasterAggQuery.metadata"
   ]
  },
  {
   "cell_type": "code",
   "execution_count": 76,
   "metadata": {
    "ExecuteTime": {
     "end_time": "2019-07-30T20:23:07.131959Z",
     "start_time": "2019-07-30T20:23:07.103600Z"
    }
   },
   "outputs": [
    {
     "data": {
      "text/html": [
       "<div>\n",
       "<style scoped>\n",
       "    .dataframe tbody tr th:only-of-type {\n",
       "        vertical-align: middle;\n",
       "    }\n",
       "\n",
       "    .dataframe tbody tr th {\n",
       "        vertical-align: top;\n",
       "    }\n",
       "\n",
       "    .dataframe thead th {\n",
       "        text-align: right;\n",
       "    }\n",
       "</style>\n",
       "<table border=\"1\" class=\"dataframe\">\n",
       "  <thead>\n",
       "    <tr style=\"text-align: right;\">\n",
       "      <th></th>\n",
       "      <th>PAIRS polygon ID</th>\n",
       "      <th>count()[unit: km^2]</th>\n",
       "      <th>min()</th>\n",
       "      <th>max()</th>\n",
       "      <th>mean()</th>\n",
       "      <th>2nd moment</th>\n",
       "    </tr>\n",
       "  </thead>\n",
       "  <tbody>\n",
       "    <tr>\n",
       "      <th>0</th>\n",
       "      <td>145</td>\n",
       "      <td>131567.122892</td>\n",
       "      <td>268.384613</td>\n",
       "      <td>285.758301</td>\n",
       "      <td>275.318153</td>\n",
       "      <td>75814.502565</td>\n",
       "    </tr>\n",
       "    <tr>\n",
       "      <th>1</th>\n",
       "      <td>161</td>\n",
       "      <td>86861.619446</td>\n",
       "      <td>268.418091</td>\n",
       "      <td>283.117798</td>\n",
       "      <td>277.960308</td>\n",
       "      <td>77270.125854</td>\n",
       "    </tr>\n",
       "    <tr>\n",
       "      <th>2</th>\n",
       "      <td>154</td>\n",
       "      <td>128680.960434</td>\n",
       "      <td>264.156433</td>\n",
       "      <td>277.720184</td>\n",
       "      <td>271.932028</td>\n",
       "      <td>73952.715730</td>\n",
       "    </tr>\n",
       "    <tr>\n",
       "      <th>3</th>\n",
       "      <td>166</td>\n",
       "      <td>28041.671704</td>\n",
       "      <td>250.461426</td>\n",
       "      <td>259.859772</td>\n",
       "      <td>255.451225</td>\n",
       "      <td>65259.576250</td>\n",
       "    </tr>\n",
       "    <tr>\n",
       "      <th>4</th>\n",
       "      <td>168</td>\n",
       "      <td>185471.703491</td>\n",
       "      <td>264.195312</td>\n",
       "      <td>282.640503</td>\n",
       "      <td>273.779572</td>\n",
       "      <td>74969.583989</td>\n",
       "    </tr>\n",
       "  </tbody>\n",
       "</table>\n",
       "</div>"
      ],
      "text/plain": [
       "   PAIRS polygon ID  count()[unit: km^2]       min()       max()      mean()  \\\n",
       "0               145        131567.122892  268.384613  285.758301  275.318153   \n",
       "1               161         86861.619446  268.418091  283.117798  277.960308   \n",
       "2               154        128680.960434  264.156433  277.720184  271.932028   \n",
       "3               166         28041.671704  250.461426  259.859772  255.451225   \n",
       "4               168        185471.703491  264.195312  282.640503  273.779572   \n",
       "\n",
       "     2nd moment  \n",
       "0  75814.502565  \n",
       "1  77270.125854  \n",
       "2  73952.715730  \n",
       "3  65259.576250  \n",
       "4  74969.583989  "
      ]
     },
     "execution_count": 76,
     "metadata": {},
     "output_type": "execute_result"
    }
   ],
   "source": [
    "# show the aggregated data\n",
    "list(rasterAggQuery.data.values())[0].head()"
   ]
  },
  {
   "cell_type": "markdown",
   "metadata": {},
   "source": [
    "We can easily get the standard deviation from the 2nd moment employing\n",
    "$$\n",
    "    \\langle \\sigma\\rangle^2 = \\langle x^2\\rangle - \\langle x\\rangle^2\n",
    "$$\n",
    "where $\\langle x^2\\rangle$ is the second moment, and $\\langle x\\rangle$ denotes the mean of $x$."
   ]
  },
  {
   "cell_type": "code",
   "execution_count": 77,
   "metadata": {
    "ExecuteTime": {
     "end_time": "2019-07-30T20:23:07.184446Z",
     "start_time": "2019-07-30T20:23:07.159324Z"
    }
   },
   "outputs": [
    {
     "name": "stderr",
     "output_type": "stream",
     "text": [
      "/home/cmalbrec/software/python/local-python-3/lib/python3.5/site-packages/ipykernel_launcher.py:5: RuntimeWarning: invalid value encountered in sqrt\n",
      "  \"\"\"\n"
     ]
    }
   ],
   "source": [
    "# assign the result to the PAIRS query vector data frame\n",
    "rasterAggQuery.vdf = list(rasterAggQuery.data.values())[0]\n",
    "\n",
    "# compute the standard deviation\n",
    "rasterAggQuery.vdf['stdev()'] = numpy.sqrt(rasterAggQuery.vdf['2nd moment'] - rasterAggQuery.vdf['mean()']**2)"
   ]
  },
  {
   "cell_type": "code",
   "execution_count": 78,
   "metadata": {
    "ExecuteTime": {
     "end_time": "2019-07-30T20:23:07.245793Z",
     "start_time": "2019-07-30T20:23:07.219915Z"
    }
   },
   "outputs": [
    {
     "data": {
      "text/html": [
       "<div>\n",
       "<style scoped>\n",
       "    .dataframe tbody tr th:only-of-type {\n",
       "        vertical-align: middle;\n",
       "    }\n",
       "\n",
       "    .dataframe tbody tr th {\n",
       "        vertical-align: top;\n",
       "    }\n",
       "\n",
       "    .dataframe thead th {\n",
       "        text-align: right;\n",
       "    }\n",
       "</style>\n",
       "<table border=\"1\" class=\"dataframe\">\n",
       "  <thead>\n",
       "    <tr style=\"text-align: right;\">\n",
       "      <th></th>\n",
       "      <th>PAIRS polygon ID</th>\n",
       "      <th>count()[unit: km^2]</th>\n",
       "      <th>min()</th>\n",
       "      <th>max()</th>\n",
       "      <th>mean()</th>\n",
       "      <th>2nd moment</th>\n",
       "      <th>stdev()</th>\n",
       "    </tr>\n",
       "  </thead>\n",
       "  <tbody>\n",
       "    <tr>\n",
       "      <th>0</th>\n",
       "      <td>145</td>\n",
       "      <td>131567.122892</td>\n",
       "      <td>268.384613</td>\n",
       "      <td>285.758301</td>\n",
       "      <td>275.318153</td>\n",
       "      <td>75814.502565</td>\n",
       "      <td>3.797003</td>\n",
       "    </tr>\n",
       "    <tr>\n",
       "      <th>1</th>\n",
       "      <td>161</td>\n",
       "      <td>86861.619446</td>\n",
       "      <td>268.418091</td>\n",
       "      <td>283.117798</td>\n",
       "      <td>277.960308</td>\n",
       "      <td>77270.125854</td>\n",
       "      <td>2.862346</td>\n",
       "    </tr>\n",
       "    <tr>\n",
       "      <th>2</th>\n",
       "      <td>154</td>\n",
       "      <td>128680.960434</td>\n",
       "      <td>264.156433</td>\n",
       "      <td>277.720184</td>\n",
       "      <td>271.932028</td>\n",
       "      <td>73952.715730</td>\n",
       "      <td>2.384978</td>\n",
       "    </tr>\n",
       "    <tr>\n",
       "      <th>3</th>\n",
       "      <td>166</td>\n",
       "      <td>28041.671704</td>\n",
       "      <td>250.461426</td>\n",
       "      <td>259.859772</td>\n",
       "      <td>255.451225</td>\n",
       "      <td>65259.576250</td>\n",
       "      <td>2.061005</td>\n",
       "    </tr>\n",
       "    <tr>\n",
       "      <th>4</th>\n",
       "      <td>168</td>\n",
       "      <td>185471.703491</td>\n",
       "      <td>264.195312</td>\n",
       "      <td>282.640503</td>\n",
       "      <td>273.779572</td>\n",
       "      <td>74969.583989</td>\n",
       "      <td>3.785484</td>\n",
       "    </tr>\n",
       "  </tbody>\n",
       "</table>\n",
       "</div>"
      ],
      "text/plain": [
       "   PAIRS polygon ID  count()[unit: km^2]       min()       max()      mean()  \\\n",
       "0               145        131567.122892  268.384613  285.758301  275.318153   \n",
       "1               161         86861.619446  268.418091  283.117798  277.960308   \n",
       "2               154        128680.960434  264.156433  277.720184  271.932028   \n",
       "3               166         28041.671704  250.461426  259.859772  255.451225   \n",
       "4               168        185471.703491  264.195312  282.640503  273.779572   \n",
       "\n",
       "     2nd moment   stdev()  \n",
       "0  75814.502565  3.797003  \n",
       "1  77270.125854  2.862346  \n",
       "2  73952.715730  2.384978  \n",
       "3  65259.576250  2.061005  \n",
       "4  74969.583989  3.785484  "
      ]
     },
     "execution_count": 78,
     "metadata": {},
     "output_type": "execute_result"
    }
   ],
   "source": [
    "# show the modified table\n",
    "rasterAggQuery.vdf.head()"
   ]
  },
  {
   "cell_type": "markdown",
   "metadata": {},
   "source": [
    "Now we can collect the PAIRS polygon IDs in order to fetch the polygons themself like this:"
   ]
  },
  {
   "cell_type": "code",
   "execution_count": 79,
   "metadata": {
    "ExecuteTime": {
     "end_time": "2019-07-30T20:23:07.276191Z",
     "start_time": "2019-07-30T20:23:07.271485Z"
    }
   },
   "outputs": [],
   "source": [
    "# identify the PAIRS polygon ID column in the vector data frame\n",
    "rasterAggQuery.set_geometry_id_column('PAIRS polygon ID')"
   ]
  },
  {
   "cell_type": "markdown",
   "metadata": {},
   "source": [
    "For the next step you need the IBM PAIRS (optional) Python module to handle the GeoJSON format:"
   ]
  },
  {
   "cell_type": "code",
   "execution_count": 36,
   "metadata": {
    "ExecuteTime": {
     "end_time": "2019-06-28T01:34:47.885650Z",
     "start_time": "2019-06-28T01:34:46.393849Z"
    }
   },
   "outputs": [
    {
     "name": "stdout",
     "output_type": "stream",
     "text": [
      "Collecting geojson\n",
      "  Downloading https://files.pythonhosted.org/packages/f1/34/bc3a65faabce27a7faa755ab08d811207a4fc438f77ef09c229fc022d778/geojson-2.4.1-py2.py3-none-any.whl\n",
      "Installing collected packages: geojson\n",
      "Successfully installed geojson-2.4.1\n"
     ]
    }
   ],
   "source": [
    "!pip install geojson"
   ]
  },
  {
   "cell_type": "code",
   "execution_count": 80,
   "metadata": {
    "ExecuteTime": {
     "end_time": "2019-07-30T20:23:26.828883Z",
     "start_time": "2019-07-30T20:23:07.301274Z"
    }
   },
   "outputs": [
    {
     "name": "stderr",
     "output_type": "stream",
     "text": [
      "INFO - 2019-07-30 16:23:07,316: \"Alright, start fetching 49 polygons from PAIRS, stay tuned ...\" [get_vector_polygon_table]\n",
      "INFO - 2019-07-30 16:23:17,002: \"Let me get the polygon meta data information for you ...\" [get_vector_polygon_table]\n",
      "INFO - 2019-07-30 16:23:26,825: \"Here you go, checkout your query object, property `pdf` for the result I assembled for you.\" [get_vector_polygon_table]\n"
     ]
    }
   ],
   "source": [
    "# retrieve polygon information from PAIRS (which might take some time)\n",
    "rasterAggQuery.get_vector_polygon_table(includeGeometry=True)"
   ]
  },
  {
   "cell_type": "code",
   "execution_count": 81,
   "metadata": {
    "ExecuteTime": {
     "end_time": "2019-07-30T20:23:26.877285Z",
     "start_time": "2019-07-30T20:23:26.854722Z"
    }
   },
   "outputs": [
    {
     "data": {
      "text/html": [
       "<div>\n",
       "<style scoped>\n",
       "    .dataframe tbody tr th:only-of-type {\n",
       "        vertical-align: middle;\n",
       "    }\n",
       "\n",
       "    .dataframe tbody tr th {\n",
       "        vertical-align: top;\n",
       "    }\n",
       "\n",
       "    .dataframe thead th {\n",
       "        text-align: right;\n",
       "    }\n",
       "</style>\n",
       "<table border=\"1\" class=\"dataframe\">\n",
       "  <thead>\n",
       "    <tr style=\"text-align: right;\">\n",
       "      <th></th>\n",
       "      <th>polygon_id</th>\n",
       "      <th>polygon_name</th>\n",
       "      <th>geometry</th>\n",
       "    </tr>\n",
       "  </thead>\n",
       "  <tbody>\n",
       "    <tr>\n",
       "      <th>0</th>\n",
       "      <td>145</td>\n",
       "      <td>USA - Mississippi</td>\n",
       "      <td>(POLYGON ((-91.6453394956883 31.1847701878811,...</td>\n",
       "    </tr>\n",
       "    <tr>\n",
       "      <th>1</th>\n",
       "      <td>161</td>\n",
       "      <td>USA - South Carolina</td>\n",
       "      <td>(POLYGON ((-83.3155584009447 34.8538809168496,...</td>\n",
       "    </tr>\n",
       "    <tr>\n",
       "      <th>2</th>\n",
       "      <td>154</td>\n",
       "      <td>USA - North Carolina</td>\n",
       "      <td>(POLYGON ((-84.0799266720587 35.3105809766659,...</td>\n",
       "    </tr>\n",
       "    <tr>\n",
       "      <th>3</th>\n",
       "      <td>166</td>\n",
       "      <td>USA - Vermont</td>\n",
       "      <td>(POLYGON ((-73.42208666705091 44.6493452691283...</td>\n",
       "    </tr>\n",
       "    <tr>\n",
       "      <th>4</th>\n",
       "      <td>168</td>\n",
       "      <td>USA - Washington</td>\n",
       "      <td>(POLYGON ((-124.186843796768 46.886251294414, ...</td>\n",
       "    </tr>\n",
       "  </tbody>\n",
       "</table>\n",
       "</div>"
      ],
      "text/plain": [
       "  polygon_id          polygon_name  \\\n",
       "0        145     USA - Mississippi   \n",
       "1        161  USA - South Carolina   \n",
       "2        154  USA - North Carolina   \n",
       "3        166         USA - Vermont   \n",
       "4        168      USA - Washington   \n",
       "\n",
       "                                            geometry  \n",
       "0  (POLYGON ((-91.6453394956883 31.1847701878811,...  \n",
       "1  (POLYGON ((-83.3155584009447 34.8538809168496,...  \n",
       "2  (POLYGON ((-84.0799266720587 35.3105809766659,...  \n",
       "3  (POLYGON ((-73.42208666705091 44.6493452691283...  \n",
       "4  (POLYGON ((-124.186843796768 46.886251294414, ...  "
      ]
     },
     "execution_count": 81,
     "metadata": {},
     "output_type": "execute_result"
    }
   ],
   "source": [
    "# show the table of retrieved geometries \n",
    "rasterAggQuery.pdf.head()"
   ]
  },
  {
   "cell_type": "code",
   "execution_count": 82,
   "metadata": {
    "ExecuteTime": {
     "end_time": "2019-07-30T20:23:26.927388Z",
     "start_time": "2019-07-30T20:23:26.914236Z"
    }
   },
   "outputs": [
    {
     "data": {
      "image/svg+xml": [
       "<svg xmlns=\"http://www.w3.org/2000/svg\" xmlns:xlink=\"http://www.w3.org/1999/xlink\" width=\"100.0\" height=\"100.0\" viewBox=\"-91.88908423153302 29.950225102027286 4.044730850021239 5.296510735393031\" preserveAspectRatio=\"xMinYMin meet\"><g transform=\"matrix(1,0,0,-1,0,65.1969609394476)\"><g><path fill-rule=\"evenodd\" fill=\"#66cc99\" stroke=\"#555555\" stroke-width=\"0.10593021470786063\" opacity=\"0.6\" d=\"M -91.6453394956883,31.1847701878811 L -91.6929171672592,31.2798319119866 L -91.5869216188984,31.3234917220579 L -91.5527480351182,31.6657908595124 L -91.4387594086166,31.6764419389965 L -91.3751697531959,31.8730421462281 L -91.1818997023836,32.034767167954 L -91.1997694137444,32.2325235545985 L -91.0240279231391,32.3229278596449 L -91.1648255963817,32.4817427061019 L -91.1890746063317,32.8588134073592 L -91.258594253806,32.9277841077469 L -91.2417446436949,33.1598700000285 L -91.139135901776,33.1900643941113 L -91.2813462278915,33.430948087516 L -91.2597460139452,33.7232286380817 L -91.1026645053599,33.828931190844 L -91.1264462591529,34.0276645417169 L -90.9629405710433,34.079825500587 L -90.9659767563413,34.2834477886057 L -90.6276248159499,34.4536313650287 L -90.5956436448887,34.8051210461303 L -90.507314559599,34.91499373641 L -90.3379346411874,34.9104923441576 L -90.3101291429235,35.0505687731465 L -88.1590205107044,35.0401871747367 L -88.0405204457856,34.893345938346 L -88.4228431199789,31.8873345411535 L -88.3611528177057,30.3204751275456 L -88.6853438907085,30.2923656222926 L -88.849423236481,30.3639583918026 L -89.5858658812911,30.1463921663011 L -89.8935435204126,30.6525866447658 L -89.7979790540049,30.9572762761945 L -91.6373194562478,30.9516182180969 L -91.6453394956883,31.1847701878811 z\" /></g></g></svg>"
      ],
      "text/plain": [
       "<shapely.geometry.multipolygon.MultiPolygon at 0x7f45fb6ccb70>"
      ]
     },
     "execution_count": 82,
     "metadata": {},
     "output_type": "execute_result"
    }
   ],
   "source": [
    "# plot a single US state shape (you can perform geometric operations with)\n",
    "rasterAggQuery.pdf.geometry[0]"
   ]
  },
  {
   "cell_type": "markdown",
   "metadata": {},
   "source": [
    "Alright, we can now join the two tables `PAIRSQuery.vdf` and `PAIRSQuery.pdf` for plotting:"
   ]
  },
  {
   "cell_type": "code",
   "execution_count": 83,
   "metadata": {
    "ExecuteTime": {
     "end_time": "2019-07-30T20:23:27.008095Z",
     "start_time": "2019-07-30T20:23:26.953854Z"
    },
    "scrolled": true
   },
   "outputs": [
    {
     "data": {
      "text/html": [
       "<div>\n",
       "<style scoped>\n",
       "    .dataframe tbody tr th:only-of-type {\n",
       "        vertical-align: middle;\n",
       "    }\n",
       "\n",
       "    .dataframe tbody tr th {\n",
       "        vertical-align: top;\n",
       "    }\n",
       "\n",
       "    .dataframe thead th {\n",
       "        text-align: right;\n",
       "    }\n",
       "</style>\n",
       "<table border=\"1\" class=\"dataframe\">\n",
       "  <thead>\n",
       "    <tr style=\"text-align: right;\">\n",
       "      <th></th>\n",
       "      <th>PAIRS polygon ID</th>\n",
       "      <th>count()[unit: km^2]</th>\n",
       "      <th>min()</th>\n",
       "      <th>max()</th>\n",
       "      <th>mean()</th>\n",
       "      <th>2nd moment</th>\n",
       "      <th>stdev()</th>\n",
       "      <th>polygon_id</th>\n",
       "      <th>polygon_name</th>\n",
       "      <th>geometry</th>\n",
       "    </tr>\n",
       "  </thead>\n",
       "  <tbody>\n",
       "    <tr>\n",
       "      <th>0</th>\n",
       "      <td>145</td>\n",
       "      <td>131567.122892</td>\n",
       "      <td>268.384613</td>\n",
       "      <td>285.758301</td>\n",
       "      <td>275.318153</td>\n",
       "      <td>75814.502565</td>\n",
       "      <td>3.797003</td>\n",
       "      <td>145</td>\n",
       "      <td>USA - Mississippi</td>\n",
       "      <td>(POLYGON ((-91.6453394956883 31.1847701878811,...</td>\n",
       "    </tr>\n",
       "    <tr>\n",
       "      <th>1</th>\n",
       "      <td>161</td>\n",
       "      <td>86861.619446</td>\n",
       "      <td>268.418091</td>\n",
       "      <td>283.117798</td>\n",
       "      <td>277.960308</td>\n",
       "      <td>77270.125854</td>\n",
       "      <td>2.862346</td>\n",
       "      <td>161</td>\n",
       "      <td>USA - South Carolina</td>\n",
       "      <td>(POLYGON ((-83.3155584009447 34.8538809168496,...</td>\n",
       "    </tr>\n",
       "    <tr>\n",
       "      <th>2</th>\n",
       "      <td>154</td>\n",
       "      <td>128680.960434</td>\n",
       "      <td>264.156433</td>\n",
       "      <td>277.720184</td>\n",
       "      <td>271.932028</td>\n",
       "      <td>73952.715730</td>\n",
       "      <td>2.384978</td>\n",
       "      <td>154</td>\n",
       "      <td>USA - North Carolina</td>\n",
       "      <td>(POLYGON ((-84.0799266720587 35.3105809766659,...</td>\n",
       "    </tr>\n",
       "    <tr>\n",
       "      <th>3</th>\n",
       "      <td>166</td>\n",
       "      <td>28041.671704</td>\n",
       "      <td>250.461426</td>\n",
       "      <td>259.859772</td>\n",
       "      <td>255.451225</td>\n",
       "      <td>65259.576250</td>\n",
       "      <td>2.061005</td>\n",
       "      <td>166</td>\n",
       "      <td>USA - Vermont</td>\n",
       "      <td>(POLYGON ((-73.42208666705091 44.6493452691283...</td>\n",
       "    </tr>\n",
       "    <tr>\n",
       "      <th>4</th>\n",
       "      <td>168</td>\n",
       "      <td>185471.703491</td>\n",
       "      <td>264.195312</td>\n",
       "      <td>282.640503</td>\n",
       "      <td>273.779572</td>\n",
       "      <td>74969.583989</td>\n",
       "      <td>3.785484</td>\n",
       "      <td>168</td>\n",
       "      <td>USA - Washington</td>\n",
       "      <td>(POLYGON ((-124.186843796768 46.886251294414, ...</td>\n",
       "    </tr>\n",
       "  </tbody>\n",
       "</table>\n",
       "</div>"
      ],
      "text/plain": [
       "  PAIRS polygon ID  count()[unit: km^2]       min()       max()      mean()  \\\n",
       "0              145        131567.122892  268.384613  285.758301  275.318153   \n",
       "1              161         86861.619446  268.418091  283.117798  277.960308   \n",
       "2              154        128680.960434  264.156433  277.720184  271.932028   \n",
       "3              166         28041.671704  250.461426  259.859772  255.451225   \n",
       "4              168        185471.703491  264.195312  282.640503  273.779572   \n",
       "\n",
       "     2nd moment   stdev() polygon_id          polygon_name  \\\n",
       "0  75814.502565  3.797003        145     USA - Mississippi   \n",
       "1  77270.125854  2.862346        161  USA - South Carolina   \n",
       "2  73952.715730  2.384978        154  USA - North Carolina   \n",
       "3  65259.576250  2.061005        166         USA - Vermont   \n",
       "4  74969.583989  3.785484        168      USA - Washington   \n",
       "\n",
       "                                            geometry  \n",
       "0  (POLYGON ((-91.6453394956883 31.1847701878811,...  \n",
       "1  (POLYGON ((-83.3155584009447 34.8538809168496,...  \n",
       "2  (POLYGON ((-84.0799266720587 35.3105809766659,...  \n",
       "3  (POLYGON ((-73.42208666705091 44.6493452691283...  \n",
       "4  (POLYGON ((-124.186843796768 46.886251294414, ...  "
      ]
     },
     "execution_count": 83,
     "metadata": {},
     "output_type": "execute_result"
    }
   ],
   "source": [
    "joinedData = pandas.merge(\n",
    "    rasterAggQuery.vdf,\n",
    "    rasterAggQuery.pdf,\n",
    "    how     = 'left',\n",
    "    left_on = rasterAggQuery.vdf_geom_col_name,\n",
    "    right_on='polygon_id',\n",
    ")\n",
    "joinedData.head()"
   ]
  },
  {
   "cell_type": "code",
   "execution_count": 84,
   "metadata": {
    "ExecuteTime": {
     "end_time": "2019-07-30T20:23:33.402071Z",
     "start_time": "2019-07-30T20:23:32.978356Z"
    }
   },
   "outputs": [
    {
     "data": {
      "text/plain": [
       "(24, 50)"
      ]
     },
     "execution_count": 84,
     "metadata": {},
     "output_type": "execute_result"
    },
    {
     "data": {
      "image/png": "[encoded data removed]",
      "text/plain": [
       "<Figure size 720x432 with 1 Axes>"
      ]
     },
     "metadata": {
      "needs_background": "light"
     },
     "output_type": "display_data"
    }
   ],
   "source": [
    "%matplotlib inline\n",
    "\n",
    "# define aggregated quantity to plot\n",
    "columnNameToPlot = 'mean()'\n",
    "\n",
    "# generate patches of U.S. states for plotting\n",
    "p = matplotlib.collections.PatchCollection(\n",
    "    [\n",
    "        matplotlib.patches.Polygon(\n",
    "            numpy.array(\n",
    "                [\n",
    "                    [xy[0], xy[1]]\n",
    "                    for xy in zip(\n",
    "                        poly[0].exterior.coords.xy[0],\n",
    "                        poly[0].exterior.coords.xy[1],\n",
    "                    )\n",
    "                ]\n",
    "            ),\n",
    "            True\n",
    "        )\n",
    "        for poly in joinedData.geometry\n",
    "    ],\n",
    "    cmap=matplotlib.cm.seismic,\n",
    ")\n",
    "p.set_array(joinedData[columnNameToPlot])\n",
    "\n",
    "# label and plot data\n",
    "pyplot.figure(figsize=(10,6))\n",
    "pyplot.title('By U.S. state spatially aggregated daily temperature: {}'.format(columnNameToPlot))\n",
    "ax = pyplot.gca()\n",
    "ax.add_collection(p)\n",
    "ax.set_ylabel('latitude')\n",
    "ax.set_xlabel('longitude')\n",
    "# set geospatial area to plot\n",
    "pyplot.xlim(-125, -67)\n",
    "pyplot.ylim(24,50)"
   ]
  },
  {
   "cell_type": "markdown",
   "metadata": {},
   "source": [
    "# Finally: IBM PAIRS vector data"
   ]
  },
  {
   "cell_type": "markdown",
   "metadata": {},
   "source": [
    "Note, that we already indirectly dealt with PAIRS vector in the section above where we pulled aggregated weather raster data by U.S. state.\n",
    "Now let us directly query (county level) vector data out of PAIRS - by accident these are aggregated by the PAIRS team on the same PRISM raster\n",
    "dataset we used before."
   ]
  },
  {
   "cell_type": "code",
   "execution_count": 85,
   "metadata": {
    "ExecuteTime": {
     "end_time": "2019-07-30T20:23:37.935929Z",
     "start_time": "2019-07-30T20:23:37.918997Z"
    }
   },
   "outputs": [],
   "source": [
    "vectorQueryDef = {\n",
    "    \"layers\": [\n",
    "        {\"id\": \"P515C5654\"}, # county level aggregated daily mean temperature (as native layer in PAIRS)\n",
    "    ],\n",
    "    \"spatial\": {\n",
    "        \"type\" : \"square\",\n",
    "        \"coordinates\" : [23, -125, 50, -67],\n",
    "    },\n",
    "    \"temporal\": {\n",
    "        \"intervals\": [\n",
    "            {\n",
    "                \"start\": \"2018-01-01T00:00:00Z\",\n",
    "                \"end\": \"2018-01-01T23:59:59Z\"\n",
    "            }\n",
    "        ]\n",
    "    },\n",
    "    \"outputType\": \"csv\"\n",
    "}"
   ]
  },
  {
   "cell_type": "code",
   "execution_count": 86,
   "metadata": {
    "ExecuteTime": {
     "end_time": "2019-07-30T20:23:49.681055Z",
     "start_time": "2019-07-30T20:23:38.841464Z"
    }
   },
   "outputs": [
    {
     "name": "stderr",
     "output_type": "stream",
     "text": [
      "INFO - 2019-07-30 16:23:38,845: \"PAIRS query JSON initialized.\" [__init__]\n",
      "INFO - 2019-07-30 16:23:38,930: \"Query successfully submitted, reference ID: 1564502400_15818913\" [submit]\n",
      "INFO - 2019-07-30 16:23:39,117: \"Query status is 'Queued'.\" [poll_till_finished]\n",
      "INFO - 2019-07-30 16:23:49,252: \"Query status is 'Succeeded'.\" [poll_till_finished]\n",
      "INFO - 2019-07-30 16:23:49,523: \"Here we go, PAIRS query result successfully downloaded as '1564502400_15818913_bd45dea7c5a8464bf4c1f7abd4c4de94.zip'.\" [download]\n",
      "WARNING - 2019-07-30 16:23:49,527: \"No PAIRS query ZIP file identified, or no acknowledgement in ZIP file found. Did you run `self.download()`, yet?\" [read_data_acknowledgement]\n",
      "WARNING - 2019-07-30 16:23:49,530: \"No PAIRS meta data file 'output.info' found\" [list_layers]\n",
      "INFO - 2019-07-30 16:23:49,538: \"Initializing empty meta data dictionary.\" [list_layers]\n",
      "INFO - 2019-07-30 16:23:49,642: \"'Vector_Data_Output.csv' from '1564502400_15818913_bd45dea7c5a8464bf4c1f7abd4c4de94.zip' loaded into Pandas dataframe.\" [create_layer]\n"
     ]
    }
   ],
   "source": [
    "# create PAIRS query instance\n",
    "vectorQuery = paw.PAIRSQuery(\n",
    "    vectorQueryDef,\n",
    "    pairsHost   = 'https://'+PAIRS_SERVER,\n",
    "    auth        = PAIRS_CREDENTIALS,\n",
    "    baseURI     = BASE_URI,\n",
    ")\n",
    "# submit and download modified query\n",
    "vectorQuery.submit()\n",
    "vectorQuery.poll_till_finished(printStatus=True)\n",
    "vectorQuery.download()\n",
    "vectorQuery.create_layers()"
   ]
  },
  {
   "cell_type": "code",
   "execution_count": 87,
   "metadata": {
    "ExecuteTime": {
     "end_time": "2019-07-30T20:23:55.388379Z",
     "start_time": "2019-07-30T20:23:55.382290Z"
    }
   },
   "outputs": [
    {
     "data": {
      "text/plain": [
       "{'Vector_Data_Output': {'layerType': 'vector'}}"
      ]
     },
     "execution_count": 87,
     "metadata": {},
     "output_type": "execute_result"
    }
   ],
   "source": [
    "# the meta data is minimalistic for now\n",
    "vectorQuery.metadata"
   ]
  },
  {
   "cell_type": "code",
   "execution_count": 88,
   "metadata": {
    "ExecuteTime": {
     "end_time": "2019-07-30T20:23:56.473377Z",
     "start_time": "2019-07-30T20:23:56.420841Z"
    }
   },
   "outputs": [
    {
     "data": {
      "text/html": [
       "<div>\n",
       "<style scoped>\n",
       "    .dataframe tbody tr th:only-of-type {\n",
       "        vertical-align: middle;\n",
       "    }\n",
       "\n",
       "    .dataframe tbody tr th {\n",
       "        vertical-align: top;\n",
       "    }\n",
       "\n",
       "    .dataframe thead th {\n",
       "        text-align: right;\n",
       "    }\n",
       "</style>\n",
       "<table border=\"1\" class=\"dataframe\">\n",
       "  <thead>\n",
       "    <tr style=\"text-align: right;\">\n",
       "      <th></th>\n",
       "      <th>timestamp</th>\n",
       "      <th>DataSet</th>\n",
       "      <th>Name</th>\n",
       "      <th>Latitude</th>\n",
       "      <th>Longitude</th>\n",
       "      <th>Region</th>\n",
       "      <th>Unit</th>\n",
       "      <th>Value</th>\n",
       "      <th>PropertyString</th>\n",
       "    </tr>\n",
       "  </thead>\n",
       "  <tbody>\n",
       "    <tr>\n",
       "      <th>0</th>\n",
       "      <td>2018-01-01 12:00:00+00:00</td>\n",
       "      <td>Example data</td>\n",
       "      <td>prism_daily_by_county:tmean</td>\n",
       "      <td>NaN</td>\n",
       "      <td>NaN</td>\n",
       "      <td>53066:Wisconsin.Florence</td>\n",
       "      <td>\"NA\"</td>\n",
       "      <td>-18.5139</td>\n",
       "      <td>county:53066</td>\n",
       "    </tr>\n",
       "    <tr>\n",
       "      <th>1</th>\n",
       "      <td>2018-01-01 12:00:00+00:00</td>\n",
       "      <td>Example data</td>\n",
       "      <td>prism_daily_by_county:tmean</td>\n",
       "      <td>NaN</td>\n",
       "      <td>NaN</td>\n",
       "      <td>53065:Wisconsin.Forest</td>\n",
       "      <td>\"NA\"</td>\n",
       "      <td>-19.6439</td>\n",
       "      <td>county:53065</td>\n",
       "    </tr>\n",
       "    <tr>\n",
       "      <th>2</th>\n",
       "      <td>2018-01-01 12:00:00+00:00</td>\n",
       "      <td>Example data</td>\n",
       "      <td>prism_daily_by_county:tmean</td>\n",
       "      <td>NaN</td>\n",
       "      <td>NaN</td>\n",
       "      <td>53064:Wisconsin.Marathon</td>\n",
       "      <td>\"NA\"</td>\n",
       "      <td>-22.6910</td>\n",
       "      <td>county:53064</td>\n",
       "    </tr>\n",
       "    <tr>\n",
       "      <th>3</th>\n",
       "      <td>2018-01-01 12:00:00+00:00</td>\n",
       "      <td>Example data</td>\n",
       "      <td>prism_daily_by_county:tmean</td>\n",
       "      <td>NaN</td>\n",
       "      <td>NaN</td>\n",
       "      <td>53063:Wisconsin.Lincoln</td>\n",
       "      <td>\"NA\"</td>\n",
       "      <td>-21.6139</td>\n",
       "      <td>county:53063</td>\n",
       "    </tr>\n",
       "    <tr>\n",
       "      <th>4</th>\n",
       "      <td>2018-01-01 12:00:00+00:00</td>\n",
       "      <td>Example data</td>\n",
       "      <td>prism_daily_by_county:tmean</td>\n",
       "      <td>NaN</td>\n",
       "      <td>NaN</td>\n",
       "      <td>53062:Wisconsin.Oneida</td>\n",
       "      <td>\"NA\"</td>\n",
       "      <td>-20.9660</td>\n",
       "      <td>county:53062</td>\n",
       "    </tr>\n",
       "  </tbody>\n",
       "</table>\n",
       "</div>"
      ],
      "text/plain": [
       "                  timestamp       DataSet                         Name  \\\n",
       "0 2018-01-01 12:00:00+00:00  Example data  prism_daily_by_county:tmean   \n",
       "1 2018-01-01 12:00:00+00:00  Example data  prism_daily_by_county:tmean   \n",
       "2 2018-01-01 12:00:00+00:00  Example data  prism_daily_by_county:tmean   \n",
       "3 2018-01-01 12:00:00+00:00  Example data  prism_daily_by_county:tmean   \n",
       "4 2018-01-01 12:00:00+00:00  Example data  prism_daily_by_county:tmean   \n",
       "\n",
       "   Latitude  Longitude                    Region  Unit    Value PropertyString  \n",
       "0       NaN        NaN  53066:Wisconsin.Florence  \"NA\" -18.5139   county:53066  \n",
       "1       NaN        NaN    53065:Wisconsin.Forest  \"NA\" -19.6439   county:53065  \n",
       "2       NaN        NaN  53064:Wisconsin.Marathon  \"NA\" -22.6910   county:53064  \n",
       "3       NaN        NaN   53063:Wisconsin.Lincoln  \"NA\" -21.6139   county:53063  \n",
       "4       NaN        NaN    53062:Wisconsin.Oneida  \"NA\" -20.9660   county:53062  "
      ]
     },
     "execution_count": 88,
     "metadata": {},
     "output_type": "execute_result"
    }
   ],
   "source": [
    "# associate vector data frame, and show the vector data\n",
    "vectorQuery.vdf = vectorQuery.data[list(vectorQuery.metadata.keys())[0]]\n",
    "vectorQuery.vdf.head()"
   ]
  },
  {
   "cell_type": "code",
   "execution_count": 89,
   "metadata": {
    "ExecuteTime": {
     "end_time": "2019-07-30T20:24:00.768000Z",
     "start_time": "2019-07-30T20:24:00.724955Z"
    }
   },
   "outputs": [
    {
     "data": {
      "text/html": [
       "<div>\n",
       "<style scoped>\n",
       "    .dataframe tbody tr th:only-of-type {\n",
       "        vertical-align: middle;\n",
       "    }\n",
       "\n",
       "    .dataframe tbody tr th {\n",
       "        vertical-align: top;\n",
       "    }\n",
       "\n",
       "    .dataframe thead th {\n",
       "        text-align: right;\n",
       "    }\n",
       "</style>\n",
       "<table border=\"1\" class=\"dataframe\">\n",
       "  <thead>\n",
       "    <tr style=\"text-align: right;\">\n",
       "      <th></th>\n",
       "      <th>timestamp</th>\n",
       "      <th>DataSet</th>\n",
       "      <th>Name</th>\n",
       "      <th>Latitude</th>\n",
       "      <th>Longitude</th>\n",
       "      <th>Region</th>\n",
       "      <th>Unit</th>\n",
       "      <th>Value</th>\n",
       "      <th>PropertyString</th>\n",
       "      <th>county</th>\n",
       "    </tr>\n",
       "  </thead>\n",
       "  <tbody>\n",
       "    <tr>\n",
       "      <th>0</th>\n",
       "      <td>2018-01-01 12:00:00+00:00</td>\n",
       "      <td>Example data</td>\n",
       "      <td>prism_daily_by_county:tmean</td>\n",
       "      <td>NaN</td>\n",
       "      <td>NaN</td>\n",
       "      <td>53066:Wisconsin.Florence</td>\n",
       "      <td>\"NA\"</td>\n",
       "      <td>-18.5139</td>\n",
       "      <td>county:53066</td>\n",
       "      <td>53066</td>\n",
       "    </tr>\n",
       "    <tr>\n",
       "      <th>1</th>\n",
       "      <td>2018-01-01 12:00:00+00:00</td>\n",
       "      <td>Example data</td>\n",
       "      <td>prism_daily_by_county:tmean</td>\n",
       "      <td>NaN</td>\n",
       "      <td>NaN</td>\n",
       "      <td>53065:Wisconsin.Forest</td>\n",
       "      <td>\"NA\"</td>\n",
       "      <td>-19.6439</td>\n",
       "      <td>county:53065</td>\n",
       "      <td>53065</td>\n",
       "    </tr>\n",
       "    <tr>\n",
       "      <th>2</th>\n",
       "      <td>2018-01-01 12:00:00+00:00</td>\n",
       "      <td>Example data</td>\n",
       "      <td>prism_daily_by_county:tmean</td>\n",
       "      <td>NaN</td>\n",
       "      <td>NaN</td>\n",
       "      <td>53064:Wisconsin.Marathon</td>\n",
       "      <td>\"NA\"</td>\n",
       "      <td>-22.6910</td>\n",
       "      <td>county:53064</td>\n",
       "      <td>53064</td>\n",
       "    </tr>\n",
       "    <tr>\n",
       "      <th>3</th>\n",
       "      <td>2018-01-01 12:00:00+00:00</td>\n",
       "      <td>Example data</td>\n",
       "      <td>prism_daily_by_county:tmean</td>\n",
       "      <td>NaN</td>\n",
       "      <td>NaN</td>\n",
       "      <td>53063:Wisconsin.Lincoln</td>\n",
       "      <td>\"NA\"</td>\n",
       "      <td>-21.6139</td>\n",
       "      <td>county:53063</td>\n",
       "      <td>53063</td>\n",
       "    </tr>\n",
       "    <tr>\n",
       "      <th>4</th>\n",
       "      <td>2018-01-01 12:00:00+00:00</td>\n",
       "      <td>Example data</td>\n",
       "      <td>prism_daily_by_county:tmean</td>\n",
       "      <td>NaN</td>\n",
       "      <td>NaN</td>\n",
       "      <td>53062:Wisconsin.Oneida</td>\n",
       "      <td>\"NA\"</td>\n",
       "      <td>-20.9660</td>\n",
       "      <td>county:53062</td>\n",
       "      <td>53062</td>\n",
       "    </tr>\n",
       "  </tbody>\n",
       "</table>\n",
       "</div>"
      ],
      "text/plain": [
       "                  timestamp       DataSet                         Name  \\\n",
       "0 2018-01-01 12:00:00+00:00  Example data  prism_daily_by_county:tmean   \n",
       "1 2018-01-01 12:00:00+00:00  Example data  prism_daily_by_county:tmean   \n",
       "2 2018-01-01 12:00:00+00:00  Example data  prism_daily_by_county:tmean   \n",
       "3 2018-01-01 12:00:00+00:00  Example data  prism_daily_by_county:tmean   \n",
       "4 2018-01-01 12:00:00+00:00  Example data  prism_daily_by_county:tmean   \n",
       "\n",
       "   Latitude  Longitude                    Region  Unit    Value  \\\n",
       "0       NaN        NaN  53066:Wisconsin.Florence  \"NA\" -18.5139   \n",
       "1       NaN        NaN    53065:Wisconsin.Forest  \"NA\" -19.6439   \n",
       "2       NaN        NaN  53064:Wisconsin.Marathon  \"NA\" -22.6910   \n",
       "3       NaN        NaN   53063:Wisconsin.Lincoln  \"NA\" -21.6139   \n",
       "4       NaN        NaN    53062:Wisconsin.Oneida  \"NA\" -20.9660   \n",
       "\n",
       "  PropertyString county  \n",
       "0   county:53066  53066  \n",
       "1   county:53065  53065  \n",
       "2   county:53064  53064  \n",
       "3   county:53063  53063  \n",
       "4   county:53062  53062  "
      ]
     },
     "execution_count": 89,
     "metadata": {},
     "output_type": "execute_result"
    }
   ],
   "source": [
    "# split property string into individual columns\n",
    "vectorQuery.split_property_string_column()\n",
    "vectorQuery.vdf.head()"
   ]
  },
  {
   "cell_type": "code",
   "execution_count": 90,
   "metadata": {
    "ExecuteTime": {
     "end_time": "2019-07-30T20:24:03.536496Z",
     "start_time": "2019-07-30T20:24:03.524573Z"
    }
   },
   "outputs": [],
   "source": [
    "# define the column that contains geospatial information\n",
    "vectorQuery.set_geometry_id_column('county')"
   ]
  },
  {
   "cell_type": "code",
   "execution_count": 91,
   "metadata": {
    "ExecuteTime": {
     "end_time": "2019-07-30T20:44:46.010300Z",
     "start_time": "2019-07-30T20:24:05.347094Z"
    }
   },
   "outputs": [
    {
     "name": "stderr",
     "output_type": "stream",
     "text": [
      "INFO - 2019-07-30 16:24:05,361: \"Alright, start fetching 3101 polygons from PAIRS, stay tuned ...\" [get_vector_polygon_table]\n",
      "INFO - 2019-07-30 16:34:25,445: \"Let me get the polygon meta data information for you ...\" [get_vector_polygon_table]\n",
      "INFO - 2019-07-30 16:44:46,001: \"Here you go, checkout your query object, property `pdf` for the result I assembled for you.\" [get_vector_polygon_table]\n"
     ]
    }
   ],
   "source": [
    "# one more time retrieve the polygons from PAIRS, all US counties - that will take a couple of minutes ... relax and have a tea.\n",
    "# note: the good thing is, you only need to do it once and then you can reuse!\n",
    "vectorQuery.get_vector_polygon_table(includeGeometry=True)"
   ]
  },
  {
   "cell_type": "code",
   "execution_count": 92,
   "metadata": {
    "ExecuteTime": {
     "end_time": "2019-07-30T20:49:56.939346Z",
     "start_time": "2019-07-30T20:49:55.293328Z"
    }
   },
   "outputs": [
    {
     "data": {
      "text/plain": [
       "(24, 50)"
      ]
     },
     "execution_count": 92,
     "metadata": {},
     "output_type": "execute_result"
    },
    {
     "data": {
      "image/png": "[encoded data removed]",
      "text/plain": [
       "<Figure size 720x432 with 1 Axes>"
      ]
     },
     "metadata": {
      "needs_background": "light"
     },
     "output_type": "display_data"
    }
   ],
   "source": [
    "# finally, let'splot the result - the same way we learned it already in the raster aggregation case!\n",
    "%matplotlib inline\n",
    "\n",
    "# join dataframes\n",
    "joinedData = pandas.merge(\n",
    "    vectorQuery.vdf,\n",
    "    vectorQuery.pdf,\n",
    "    how     = 'left',\n",
    "    left_on = vectorQuery.vdf_geom_col_name,\n",
    "    right_on='polygon_id',\n",
    ")\n",
    "\n",
    "# define aggregated quantity to plot\n",
    "columnNameToPlot = 'Value'\n",
    "\n",
    "# generate patches of U.S. states for plotting\n",
    "p = matplotlib.collections.PatchCollection(\n",
    "    [\n",
    "        matplotlib.patches.Polygon(\n",
    "            numpy.array(\n",
    "                [\n",
    "                    [xy[0], xy[1]]\n",
    "                    for xy in zip(\n",
    "                        poly.exterior.coords.xy[0],\n",
    "                        poly.exterior.coords.xy[1],\n",
    "                    )\n",
    "                ]\n",
    "            ),\n",
    "            True\n",
    "        )\n",
    "        for poly in joinedData.geometry\n",
    "        if isinstance(poly, shapely.geometry.polygon.Polygon)\n",
    "    ],\n",
    "    cmap=matplotlib.cm.seismic,\n",
    ")\n",
    "p.set_array(joinedData[columnNameToPlot])\n",
    "p.set_array(\n",
    "    numpy.array(\n",
    "    [\n",
    "        val\n",
    "        for val, poly in zip(joinedData[columnNameToPlot], joinedData.geometry)\n",
    "        if isinstance(poly, shapely.geometry.polygon.Polygon)\n",
    "    ]\n",
    "    )\n",
    ")\n",
    "\n",
    "# label and plot data\n",
    "pyplot.figure(figsize=(10,6))\n",
    "pyplot.title('By U.S. state spatially aggregated daily temperature: {}'.format(columnNameToPlot))\n",
    "ax = pyplot.gca()\n",
    "ax.add_collection(p)\n",
    "ax.set_ylabel('latitude')\n",
    "ax.set_xlabel('longitude')\n",
    "# set geospatial area to plot\n",
    "pyplot.xlim(-125, -67)\n",
    "pyplot.ylim(24, 50)"
   ]
  }
 ],
 "metadata": {
  "hide_input": false,
  "kernelspec": {
   "display_name": "Python 3",
   "language": "python",
   "name": "python3"
  },
  "language_info": {
   "codemirror_mode": {
    "name": "ipython",
    "version": 3
   },
   "file_extension": ".py",
   "mimetype": "text/x-python",
   "name": "python",
   "nbconvert_exporter": "python",
   "pygments_lexer": "ipython3",
   "version": "3.5.2"
  },
  "latex_envs": {
   "LaTeX_envs_menu_present": true,
   "autocomplete": true,
   "bibliofile": "biblio.bib",
   "cite_by": "apalike",
   "current_citInitial": 1,
   "eqLabelWithNumbers": true,
   "eqNumInitial": 1,
   "hotkeys": {
    "equation": "Ctrl-E",
    "itemize": "Ctrl-I"
   },
   "labels_anchors": false,
   "latex_user_defs": false,
   "report_style_numbering": false,
   "user_envs_cfg": false
  },
  "toc": {
   "colors": {
    "hover_highlight": "#DAA520",
    "navigate_num": "#000000",
    "navigate_text": "#333333",
    "running_highlight": "#FF0000",
    "selected_highlight": "#FFD700",
    "sidebar_border": "#EEEEEE",
    "wrapper_background": "#FFFFFF"
   },
   "moveMenuLeft": true,
   "nav_menu": {
    "height": "322.067px",
    "width": "252px"
   },
   "navigate_menu": true,
   "number_sections": true,
   "sideBar": true,
   "threshold": 4,
   "toc_cell": false,
   "toc_section_display": "block",
   "toc_window_display": false,
   "widenNotebook": false
  },
  "varInspector": {
   "cols": {
    "lenName": 16,
    "lenType": 16,
    "lenVar": 40
   },
   "kernels_config": {
    "python": {
     "delete_cmd_postfix": "",
     "delete_cmd_prefix": "del ",
     "library": "var_list.py",
     "varRefreshCmd": "print(var_dic_list())"
    },
    "r": {
     "delete_cmd_postfix": ") ",
     "delete_cmd_prefix": "rm(",
     "library": "var_list.r",
     "varRefreshCmd": "cat(var_dic_list()) "
    }
   },
   "types_to_exclude": [
    "module",
    "function",
    "builtin_function_or_method",
    "instance",
    "_Feature"
   ],
   "window_display": false
  }
 },
 "nbformat": 4,
 "nbformat_minor": 1
}
